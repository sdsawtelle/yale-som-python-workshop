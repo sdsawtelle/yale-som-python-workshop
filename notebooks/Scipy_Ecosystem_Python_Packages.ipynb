{
 "cells": [
  {
   "cell_type": "markdown",
   "metadata": {
    "deletable": true,
    "editable": true,
    "toc": "true"
   },
   "source": [
    "# Table of Contents\n",
    " <p><div class=\"lev1 toc-item\"><a href=\"#The-SciPy-Ecosystem\" data-toc-modified-id=\"The-SciPy-Ecosystem-1\"><span class=\"toc-item-num\">1&nbsp;&nbsp;</span>The SciPy Ecosystem</a></div><div class=\"lev1 toc-item\"><a href=\"#Pandas\" data-toc-modified-id=\"Pandas-2\"><span class=\"toc-item-num\">2&nbsp;&nbsp;</span>Pandas</a></div><div class=\"lev1 toc-item\"><a href=\"#NumPy\" data-toc-modified-id=\"NumPy-3\"><span class=\"toc-item-num\">3&nbsp;&nbsp;</span>NumPy</a></div><div class=\"lev1 toc-item\"><a href=\"#SciPy\" data-toc-modified-id=\"SciPy-4\"><span class=\"toc-item-num\">4&nbsp;&nbsp;</span>SciPy</a></div><div class=\"lev1 toc-item\"><a href=\"#Matplotlib\" data-toc-modified-id=\"Matplotlib-5\"><span class=\"toc-item-num\">5&nbsp;&nbsp;</span>Matplotlib</a></div><div class=\"lev2 toc-item\"><a href=\"#Matplotlib-Architecture\" data-toc-modified-id=\"Matplotlib-Architecture-51\"><span class=\"toc-item-num\">5.1&nbsp;&nbsp;</span>Matplotlib Architecture</a></div><div class=\"lev2 toc-item\"><a href=\"#More-on-the-Artist-Heirarchy\" data-toc-modified-id=\"More-on-the-Artist-Heirarchy-52\"><span class=\"toc-item-num\">5.2&nbsp;&nbsp;</span>More on the Artist Heirarchy</a></div><div class=\"lev2 toc-item\"><a href=\"#More-on-Backends\" data-toc-modified-id=\"More-on-Backends-53\"><span class=\"toc-item-num\">5.3&nbsp;&nbsp;</span>More on Backends</a></div><div class=\"lev2 toc-item\"><a href=\"#Pylab-and-Pyplot\" data-toc-modified-id=\"Pylab-and-Pyplot-54\"><span class=\"toc-item-num\">5.4&nbsp;&nbsp;</span>Pylab and Pyplot</a></div>"
   ]
  },
  {
   "cell_type": "markdown",
   "metadata": {
    "deletable": true,
    "editable": true
   },
   "source": [
    "# The SciPy Ecosystem\n",
    "\n",
    " The \"SciPy ecosystem\" is a collection of Python packages designed to streamline many of the common tasks involved in data science. We'll begin this workshop by taking a look at four of those packages, focusing on the features that I find most important and occasionally highlighting similarities and differences with how things work in R.\n",
    "\n",
    "- https://www.scipy.org/"
   ]
  },
  {
   "cell_type": "markdown",
   "metadata": {
    "deletable": true,
    "editable": true
   },
   "source": [
    "# Pandas\n",
    "Pandas is the top package for manipulating tabular-form data. The most important aspect of Pandas is that it defines a DataFrame class that comes with many convenient methods that R users are used to."
   ]
  },
  {
   "cell_type": "code",
   "execution_count": null,
   "metadata": {
    "collapsed": true,
    "deletable": true,
    "editable": true
   },
   "outputs": [],
   "source": [
    "import pandas as pd\n",
    "\n",
    "data_url = \"https://raw.githubusercontent.com/mwaskom/seaborn-data/master/anscombe.csv\"\n",
    "z = pd.read_csv(data_url) # import data as a DataFrame, analogous to \"read.csv(data_url)\"\n",
    "\n",
    "\n",
    "\n",
    "## BASICS\n",
    "\n",
    "z.head() # analogous to \"head(z)\"\n",
    "z.head(20) # analogous to \"head(z, 10)\"\n",
    "z.shape # analogous to \"dim(z)\"\n",
    "z.columns # analogous to \"names(z)\"\n",
    "z.describe() # analogous to \"summary(z)\"\n",
    "\n",
    "\n",
    "\n",
    "### SUBSETTING\n",
    "\n",
    "\n",
    "## retrieving specified columns\n",
    "\n",
    "z[\"x\"]\n",
    "z[[\"x\", \"y\"]]\n",
    "\n",
    "\n",
    "## retrieving the rows that satisfy a specified condition\n",
    "\n",
    "z[\"x\"] > 10 # creates a vector of True/False values telling you whether each row's x-val is > 10\n",
    "z[z[\"x\"] > 10] # selects the rows that have x-val > 10\n",
    "z[(z[\"x\"] > 10) & (z[\"dataset\"]==\"II\")] # selects the rows that have x-val > 10 and dataset equal to \"II\"\n",
    "z[(z[\"x\"] > 10) | (z[\"dataset\"]==\"II\")] # selects the rows that have x-val > 10 or dataset equal to \"II\"\n",
    "\n",
    "\n",
    "\n",
    "## subsetting by INDEX: iloc\n",
    "\n",
    "# - single argument retrieves row, two arguments specify row(s) then column(s)\n",
    "\n",
    "z.iloc[0]\n",
    "list(z.iloc[0])\n",
    "z.iloc[:4, :] # rows 0 through 3, all columns\n",
    "z.iloc[1:4, 1:3] # rows 1 through 3, columns 1 through 2\n",
    "\n",
    "\n",
    "## subsetting by NAME: loc\n",
    "\n",
    "# - again, single argument retrieves row, two arguments specify row(s) then column(s)\n",
    "\n",
    "z.loc[0] # the first row has 0 as its rowname\n",
    "# But be careful: index names are preserved when new objects are created by subsetting\n",
    "zz = z.iloc[3:6, :]\n",
    "zz\n",
    "zz.iloc[0] # zz has a row with index 0\n",
    "zz.loc[0] # but its first row isn't named 0\n",
    "zz.loc[3] # it's name is (still) 3\n",
    "z.loc[3:6] # also notice that BOTH endpoints are included when using names - very tricky!\n",
    "\n",
    "z.loc[:4, \"x\"]\n",
    "z.loc[:, [\"x\", \"y\"]] # same as z[[\"x\", \"y\"]]\n",
    "\n",
    "\n",
    "\n",
    "# REMINDER about list pointers and copy()\n",
    "# Let's see a behavior of lists that can be confusing\n",
    "zz.loc[3, \"x\"] = -1\n",
    "zz\n",
    "z.head() # it changed the original DataFrame as well!\n",
    "z.loc[3, \"x\"] = 9 # let's change it back\n",
    "\n",
    "zz = z.iloc[3:6, :].copy() # to prevent this issue, we could have explicitly made a copy\n",
    "zz.loc[3, \"x\"] = -1 # change the copy\n",
    "z.head() # check the original\n",
    "# we've verified that this time, we didn't change the original, only the copy"
   ]
  },
  {
   "cell_type": "code",
   "execution_count": null,
   "metadata": {
    "collapsed": true,
    "deletable": true,
    "editable": true
   },
   "outputs": [],
   "source": [
    "## EXERCISE: Find the sample standard deviation of the y-values in dataset III.\n",
    "##           (Remember the \"describe\" function.)"
   ]
  },
  {
   "cell_type": "code",
   "execution_count": null,
   "metadata": {
    "collapsed": true,
    "deletable": true,
    "editable": true
   },
   "outputs": [],
   "source": [
    "## CALCULATIONS\n",
    "\n",
    "# Pandas defines a Series object type; each column of a DataFrame is a Series.\n",
    "# In fact, a DataFrame is a dictionary\n",
    "# - each key is a variable name and its value is the corresponding column.\n",
    "type(z[[\"x\", \"y\"]])\n",
    "type(z[\"x\"])\n",
    "\n",
    "# The head, describe, mean, and additional methods listed here work on Series objects\n",
    "# or can be easily \"applied\" to the columns or rows of a DataFrame\n",
    "z[\"x\"].mean()\n",
    "z[\"x\"].sum()\n",
    "z[\"x\"].std()\n",
    "z[\"x\"].min()\n",
    "z[\"x\"].abs()\n",
    "z[\"x\"].median()\n",
    "\n",
    "# apply to every column or to every row\n",
    "z.mean() # analogous to \"apply(z, 2, mean)\"\n",
    "z.mean(axis=1) # \"apply(z, 1, mean)\"\n",
    "# can also use an \"apply\" method to specify your own function\n",
    "z[[\"x\", \"y\"]].apply(sum)\n",
    "z[[\"x\", \"y\"]].apply(sum, axis=1)\n",
    "\n",
    "# easily perform an arithmetic operation to every entry of a Series\n",
    "z[\"x\"]**2 # \"z$x^2\" in R\n",
    "3*z[\"x\"] # \"3*z$x\" in R\n",
    "# you can't use this syntax with ordinary Python lists!\n",
    "# you'd use \"list comprehension\" instead: [3*i for i in z[\"x\"]]\n",
    "\n",
    "# multiply two vectors, entry by entry\n",
    "z[\"x\"]*z[\"y\"]\n",
    "# dot product of x and y:\n",
    "sum(z[\"x\"]*z[\"y\"])\n",
    "\n",
    "# splitting up by a categorical variable\n",
    "# The \"groupby\" function in Pandas is analogous to \"aggregate\" or \"split\" in R.\n",
    "z.groupby(z[\"dataset\"]).describe()\n",
    "\n",
    "# correlation matrix of each group\n",
    "z.groupby(z[\"dataset\"]).corr()\n",
    "\n",
    "# You can loop through the groups\n",
    "for groupname, groupdata in z.groupby(\"dataset\"):\n",
    "    print(groupname)\n",
    "    print(groupdata)\n",
    "\n",
    "for name, group in z.groupby(\"dataset\")[\"x\"]:\n",
    "    print(name)\n",
    "    print(group)"
   ]
  },
  {
   "cell_type": "code",
   "execution_count": null,
   "metadata": {
    "collapsed": true,
    "deletable": true,
    "editable": true
   },
   "outputs": [],
   "source": [
    "## EXERCISE: Find the dot product of x and y within each of the four datasets."
   ]
  },
  {
   "cell_type": "code",
   "execution_count": null,
   "metadata": {
    "collapsed": true,
    "deletable": true,
    "editable": true
   },
   "outputs": [],
   "source": [
    "## PLOTTING\n",
    "\n",
    "z1 = z[z[\"dataset\"]==\"I\"] # dataset \"I\"\n",
    "\n",
    "z1[\"x\"].plot(kind=\"hist\")\n",
    "# My plot appears in new window (check behind Spyder if you don't see it)\n",
    "# Note you can save a plot from the Spyder console by right-clicking it\n",
    "# and selecting \"Save Image As...\"\n",
    "# Or if your plot is in a pop-up window, that window has a save button.\n",
    "\n",
    "z1.plot(kind=\"scatter\", x=\"x\", y=\"y\")\n",
    "\n",
    "z.groupby(z[\"dataset\"]).plot(kind=\"scatter\", x=\"x\", y=\"y\")\n",
    "\n",
    "# Pandas only has some basic plotting capabilities.\n",
    "# For more sophisticated plotting, we'll use Matplotlib below."
   ]
  },
  {
   "cell_type": "markdown",
   "metadata": {
    "deletable": true,
    "editable": true
   },
   "source": [
    "# NumPy\n",
    "Some NumPy functionality is automatically imported with and used by Pandas"
   ]
  },
  {
   "cell_type": "code",
   "execution_count": null,
   "metadata": {
    "collapsed": true,
    "deletable": true,
    "editable": true
   },
   "outputs": [],
   "source": [
    "import numpy as np\n",
    "\n",
    "## LINEAR REGRESSION\n",
    "\n",
    "fit = np.polyfit(z1[\"x\"], z1[\"y\"], 1) # least-squares fit of first-order polynomial (i.e. line)\n",
    "fit # Careful: this is slope then intercept - reversed order compared to R\n",
    "\n",
    "# redraw scatterplot with least-squares line\n",
    "z1.plot(kind=\"scatter\", x=\"x\", y=\"y\").plot(z1[\"x\"], fit[0]*z1[\"x\"] + fit[1], color=\"Red\")"
   ]
  },
  {
   "cell_type": "code",
   "execution_count": null,
   "metadata": {
    "collapsed": true,
    "deletable": true,
    "editable": true
   },
   "outputs": [],
   "source": [
    "## ARRAYS\n",
    "\n",
    "a = np.array([1, 3, 2]) # one-dimensional array, i.e. vector\n",
    "a\n",
    "np.array((1, 3, 2)) # or putting a tuple rather than list - creates same array\n",
    "a[:2] # subsetting works as usual for Python lists\n",
    "\n",
    "b = np.array([a, (4, 5, 6)]) # two-dimensional array, i.e. matrix\n",
    "b\n",
    "print(b)\n",
    "\n",
    "b[:, :2] # subsetting all rows and first two columns\n",
    "b[0, 1] = 8 # set row 0 column 1 entry to 8\n",
    "print(b)\n",
    "\n",
    "b[0] # if only one index is provided, it refers to the row(s) and full column slices are taken\n",
    "b[-1]\n",
    "\n",
    "# arithmetic operations apply to each entry of an array\n",
    "b+1\n",
    "2*b\n",
    "b**2\n",
    "2*b - b # subtracts corresponding entries\n",
    "# (in fact Pandas Series objects are a type of array - they inherit this behavior)\n",
    "\n",
    "b.sum(axis=0)\n",
    "b.sum(axis=1)\n",
    "b.sum() # adds up all the numbers in the matrix\n",
    "\n",
    "# more sophisticated vector and matrix operations\n",
    "a.mean() # an equivalent command is \"np.mean(a)\"\n",
    "a.var()\n",
    "a.argmax()\n",
    "a.sort() # note that this is an in-place function! it changes the object rather than just returning a sorted version\n",
    "a\n",
    "\n",
    "np.dot(b[0], b[1]) # dot product\n",
    "\n",
    "b.transpose() # equivalently \"np.transpose(b)\"\n",
    "np.cov(b) # covariance matrix\n",
    "b @ b.transpose() # matrix multiplication\n",
    "\n",
    "np.linalg.svd(b) # singular value decomposition\n",
    "\n",
    "\n",
    "\n",
    "## MATHEMATICAL FUNCTIONS AND CONSTANTS\n",
    "\n",
    "np.cos(np.pi)\n",
    "np.exp(np.log(np.sqrt(25)))\n",
    "\n",
    "\n",
    "# https://www.numpy.org/devdocs/user/quickstart.html\n",
    "\n",
    "\n",
    "## EXERCISE: Find the variance of each row of b."
   ]
  },
  {
   "cell_type": "markdown",
   "metadata": {
    "deletable": true,
    "editable": true
   },
   "source": [
    "# SciPy \n",
    "\n",
    "Note that the SciPy package is one of the many packages in the SciPy ecosystem. The terminology can be confusing!"
   ]
  },
  {
   "cell_type": "code",
   "execution_count": null,
   "metadata": {
    "collapsed": true,
    "deletable": true,
    "editable": true
   },
   "outputs": [],
   "source": [
    "## LINEAR ALGEBRA\n",
    "\n",
    "from scipy.linalg import svd, inv\n",
    "\n",
    "svd(b) # singular value decomposition, agrees with the NumPy function\n",
    "inv(b @ b.transpose()) # inverse matrix\n",
    "\n",
    "# https://docs.scipy.org/doc/scipy/reference/linalg.html\n",
    "\n",
    "\n",
    "\n",
    "## PROBABILITY DISTRIBUTIONS\n",
    "\n",
    "from scipy.stats import norm # functions for Normal distributions\n",
    "from scipy.stats import f # functions for F distributions\n",
    "\n",
    "# cdf and inverse cdf\n",
    "2*norm.cdf(-2) # twice the probability of a standard Normal draw being less than -2\n",
    "norm.ppf(.975) # a standard Normal draw has probability .975 of being less than this value\n",
    "\n",
    "1-f.cdf(2, 1, 12) # probability that a draw from f_{1, 12} is greater than 2\n",
    "\n",
    "\n",
    "# simulating random samples\n",
    "\n",
    "norm.rvs(size=10)\n",
    "f.rvs(1, 12, size=10)\n",
    "\n",
    "# For more functions and distributions, see\n",
    "# https://docs.scipy.org/doc/scipy/reference/stats.html\n",
    "\n",
    "# https://www.tutorialspoint.com/scipy/scipy_introduction.htm"
   ]
  },
  {
   "cell_type": "markdown",
   "metadata": {
    "deletable": true,
    "editable": true
   },
   "source": [
    "# Matplotlib"
   ]
  },
  {
   "cell_type": "markdown",
   "metadata": {},
   "source": [
    "## Matplotlib Architecture\n",
    "Matplotlib is a module which defines classes and their methods for **all** the components necessary to create a wide variety of plots e.g. axes, titles, lines, text, patches etc. These classes are organized somewhat heirarchically so that e.g. a `Figure` object (basically everything you see in any graphic) can own several `Axes` objects (what we consider a \"plot\" - a rectangular region on the figure) which in turn can own e.g. `line` (an actual plotted line) or `title` objects. **Working explicitly with these heirarchically organized classes and their methods is known as the object-oriented approach for matplotlib, or else as using the \"class library\". The alternative to the full OO approach is a submodule within matplotlib called `pyplot` which defines functions that *implicity* create and manipulate these objects to script common plotting tasks.** Using `pyplot` functions to achieve plotting requires fewer lines of code, but it often does not allow full access to the created objects and thus limits customization. According to the official docs for non-interactive programming it is recommended to use the `pyplot` convenience functions for *creating* the axes and figure objects, and then use the class methods of those objects to achieve the actual plotting. "
   ]
  },
  {
   "cell_type": "markdown",
   "metadata": {
    "deletable": true,
    "editable": true
   },
   "source": [
    "All of the classes mentioned above in the OO approach are derived from a base class called `Artist` and together they make up the Artist \"layer\" of matplotlib. There is a layer of class definitions \"below\" the Artist layer which is called the **Backend layer and defines interface classes that dictate how plots are actually rendered to various outut devices, or what to do with user interactions like clicks. There are \"backends\" for e.g. writing to a file versus rendering on screen.** To select an interactive back-end you can do `ipython --matplotlib` or in Jupyter notebook use `%matplotlib notebook` for inline. Finally, it may be helpful to think of `pyplot` as a final layer on top of the Artist layer. A nice picture of these three \"layers\" (backend, artist, pyplot/scripting) is [here](http://creately.com/diagram/example/hqz3w6j12/Matplotlib%203-tiered%20architecture). \n",
    "\n",
    "Below is an example of achieving the same plotting result using the class-library OO approach versus the state-machine pyplot scripting approach:"
   ]
  },
  {
   "cell_type": "code",
   "execution_count": 34,
   "metadata": {
    "collapsed": false,
    "deletable": true,
    "editable": true
   },
   "outputs": [
    {
     "data": {
      "text/plain": [
       "<matplotlib.text.Text at 0x22906d03898>"
      ]
     },
     "execution_count": 34,
     "metadata": {},
     "output_type": "execute_result"
    }
   ],
   "source": [
    "import matplotlib\n",
    "import matplotlib.pyplot as plt\n",
    "import numpy as np\n",
    "x = np.random.randn(10000)\n",
    "\n",
    "####################################\n",
    "# The object-oriented (class library) approach\n",
    "####################################\n",
    "# Import the FigureCanvas from the backend of your choice and attach the Figure artist to it.\n",
    "from matplotlib.backends.backend_agg import FigureCanvasAgg as FigureCanvas\n",
    "from matplotlib.figure import Figure\n",
    "fig = Figure()\n",
    "canvas = FigureCanvas(fig)\n",
    "\n",
    "# Now use a figure method to create an Axes artist; the Axes artist is\n",
    "#  added automatically to the figure container fig.axes.\n",
    "# Here \"111\" is from the MATLAB convention: create a grid with 1 row and 1\n",
    "#  column, and use the first cell in that grid for the location of the new\n",
    "#  Axes.\n",
    "ax = fig.add_subplot(111)\n",
    "\n",
    "# Call the Axes method hist to generate the histogram; hist creates a\n",
    "#  sequence of Rectangle artists for each histogram bar and adds them\n",
    "#  to the Axes container.  Hesre \"100\" means create 100 bins.\n",
    "ax.hist(x, 100)\n",
    "\n",
    "# Decorate the figure with a title and save it.\n",
    "ax.set_title('Normal distribution with $\\mu=0, \\sigma=1$')\n",
    "\n",
    "####################################\n",
    "# The pyplot state-machine (scripting) approach\n",
    "####################################\n",
    "plt.hist(x, 100)\n",
    "plt.title(r'Normal distribution with $\\mu=0, \\sigma=1$')\n",
    "\n",
    "####################################\n",
    "# Joint approach\n",
    "####################################\n",
    "fig, ax = plt.subplots(111)  # Use pyplot convenience function for fig & axes creation, storing handles to those objects\n",
    "ax.hist(x, 100)  # Use an Axes method to create further plotting elements.\n",
    "ax.set_title('Normal distribution with $\\mu=0, \\sigma=1$')"
   ]
  },
  {
   "cell_type": "markdown",
   "metadata": {
    "deletable": true,
    "editable": true
   },
   "source": [
    "## More on the Artist Heirarchy\n",
    "The classes defined in the Artist layer are organized heirarchically. The `figure` object is the top tier, and owns a couple of specialized artists like `title` and `legend`, but most importantly a `figure` owns at least one `Axes` artist. The `Axes` class methods is where most of the actual plotting functionality is implemented, and an `Axes` owns other important artists like `line2D` or `XAxis`. The `XAxis` objects owns `x-label` and `x-ticks` objects, and similarly for `YAxis`. A good picture of this heirarchy can be found [here](http://www.aosabook.org/en/matplotlib.html#fig.matplotlib.artistsfigure). **The artist classes can be divided into \"primitive\" artists - components you see in a plot like `Line2D`, `Rectangle`, `Circle`, and `Text`, and \"composite\" artists which contain primitive and/or other composite artists within themselves.** As an example to tie this all together, the class method `Axes.hist()` creates many `rectangle` primitive objects which are stored within `Axes.patches`. \n",
    "\n",
    "Below is a really neat example to demonstrate the power of working within the class library. We want our graphic to only have solid lines on the bottom and left hand edges of the plotting region. Recall that the plotting region is controlled by the `Axes` object, which owns a `rectangle` that constitutes the 'background' of the plot area. We can change the edge colors of the rectangle to be the same as it's face color to get rid of all the edges. We can then add two `line2D` objects to the `Axes` and locate them along the bottom and left edge respectively:"
   ]
  },
  {
   "cell_type": "code",
   "execution_count": 48,
   "metadata": {
    "collapsed": false,
    "deletable": true,
    "editable": true
   },
   "outputs": [
    {
     "data": {
      "text/plain": [
       "<matplotlib.lines.Line2D at 0x229072ba048>"
      ]
     },
     "execution_count": 48,
     "metadata": {},
     "output_type": "execute_result"
    },
    {
     "data": {
      "image/png": "[encoded data removed]",
      "text/plain": [
       "<matplotlib.figure.Figure at 0x229071c78d0>"
      ]
     },
     "metadata": {},
     "output_type": "display_data"
    }
   ],
   "source": [
    "import matplotlib as mpl\n",
    "import matplotlib.pyplot as plt\n",
    "\n",
    "%matplotlib inline\n",
    "# use pyplot to create the figure and it's axes object\n",
    "fig = plt.figure()  # create a figure object\n",
    "ax = fig.add_subplot(111)  # create an axes object in the figure\n",
    "# set the edgecolor and facecolor of the axes rectangle to be the same\n",
    "frame = ax.axesPatch\n",
    "frame.set_edgecolor(frame.get_facecolor())\n",
    "# Specify a line in axes coords to represent the left and bottom axes.\n",
    "# transAxes means coords are relative to the axes bounding box (0,0 being the lower left and 1,1 being upper right).\n",
    "bottom = mpl.lines.Line2D([0, 1], [0, 0], transform=ax.transAxes)\n",
    "left = mpl.lines.Line2D([0, 0], [0, 1], transform=ax.transAxes)\n",
    "ax.add_line(bottom)\n",
    "ax.add_line(left)"
   ]
  },
  {
   "cell_type": "markdown",
   "metadata": {
    "deletable": true,
    "editable": true
   },
   "source": [
    "`Spine` objects (subclassed from `patch`) are the lines connecting the axis tick marks and noting the boundaries of the data area. They can be placed at arbitrary positions. Another way to \"remove the top and right borders are by setting the spines and tickmarks visibility:"
   ]
  },
  {
   "cell_type": "code",
   "execution_count": 1,
   "metadata": {
    "collapsed": false,
    "deletable": true,
    "editable": true
   },
   "outputs": [
    {
     "ename": "NameError",
     "evalue": "name 'plt' is not defined",
     "output_type": "error",
     "traceback": [
      "\u001b[1;31m---------------------------------------------------------------------------\u001b[0m",
      "\u001b[1;31mNameError\u001b[0m                                 Traceback (most recent call last)",
      "\u001b[1;32m<ipython-input-1-23076cd876d0>\u001b[0m in \u001b[0;36m<module>\u001b[1;34m()\u001b[0m\n\u001b[0;32m      1\u001b[0m \u001b[1;31m# use pyplot to create the figure and it's axes object\u001b[0m\u001b[1;33m\u001b[0m\u001b[1;33m\u001b[0m\u001b[0m\n\u001b[1;32m----> 2\u001b[1;33m \u001b[0mfig\u001b[0m \u001b[1;33m=\u001b[0m \u001b[0mplt\u001b[0m\u001b[1;33m.\u001b[0m\u001b[0mfigure\u001b[0m\u001b[1;33m(\u001b[0m\u001b[1;33m)\u001b[0m  \u001b[1;31m# create a figure object\u001b[0m\u001b[1;33m\u001b[0m\u001b[0m\n\u001b[0m\u001b[0;32m      3\u001b[0m \u001b[0max\u001b[0m \u001b[1;33m=\u001b[0m \u001b[0mfig\u001b[0m\u001b[1;33m.\u001b[0m\u001b[0madd_subplot\u001b[0m\u001b[1;33m(\u001b[0m\u001b[1;36m111\u001b[0m\u001b[1;33m)\u001b[0m  \u001b[1;31m# create an axes object in the figure\u001b[0m\u001b[1;33m\u001b[0m\u001b[0m\n\u001b[0;32m      4\u001b[0m \u001b[1;33m\u001b[0m\u001b[0m\n\u001b[0;32m      5\u001b[0m \u001b[1;31m# Hide the right and top spines\u001b[0m\u001b[1;33m\u001b[0m\u001b[1;33m\u001b[0m\u001b[0m\n",
      "\u001b[1;31mNameError\u001b[0m: name 'plt' is not defined"
     ]
    }
   ],
   "source": [
    "# use pyplot to create the figure and it's axes object\n",
    "fig = plt.figure()  # create a figure object\n",
    "ax = fig.add_subplot(111)  # create an axes object in the figure\n",
    "\n",
    "# Hide the right and top spines\n",
    "ax.spines['right'].set_visible(False)\n",
    "ax.spines['top'].set_visible(False)\n",
    "\n",
    "# Only show ticks on the left and bottom spines\n",
    "ax.yaxis.set_ticks_position('left')\n",
    "ax.xaxis.set_ticks_position('bottom')"
   ]
  },
  {
   "cell_type": "markdown",
   "metadata": {
    "deletable": true,
    "editable": true
   },
   "source": [
    "A random note that is of interest is that there are many relevant coordinate systems involved in matplotlib plotting such as:\n",
    "- data coordinates: the original raw data values\n",
    "- axes coordinates: the space defined by a particular axes rectangle\n",
    "- figure coordinates: the space containing the entire figure\n",
    "- display coordinates: the physical coordinates used in the output (e.g. points in PostScript, pixels in PNG)\n",
    "Every Artist has a transformation node that knows how to transform from one coordinate system to another.\n",
    "\n",
    "In summary: a `Figure` is the top-level entire graphic, `Axes` is the region of the image with the data space (what we think of as a plot), `Axis` are the number-line-like objects that set the graph limits and generate the ticks (marks on the axis) and ticklabels (strings labeling the ticks). Other important artists are: `Line2D` (store lines with a variety of styles), `Text` (store text in a variety of styles), `Patch` (wo dimensional shape with face and edge), and `Ticks` (indicators of where on an axis a particular value lies).\n",
    "\n",
    "## More on Backends\n",
    "The backend is the behind-the-scenes code that handles how to \"output\" the results of plotting e.g. an interactive window that pops up, an image file, or an embedded plot in an application. Each target \"output\" has a unique backend - some are interactive while some are non-interactive and just make files. To run a python script using a particular backend you can do ` python script.py -d backend` whereas the backend can be fixed for a script by adding a line at the top `matplotlib.use(backend)`.\n",
    "\n",
    "When using an interactive back-end that pops up a plotting window, an important thing to note is that pyplot functions contain a final call to \"redraw\" the plot, while most methods in the class library do not (so you may not automatically see the effect of your command). At any time `plt.draw()` can be used to force a redrawing off the canvas. \n",
    "\n",
    "When using interactive backends an environment variable controls whether the so-called \"interactive mode\" is ON or OFF (this can be set by `matplotlib.interactive()` or with `pyplot.ion()` and `pyplot.ioff()`). With interactive mode ON the terminal should remain active after the plotting window pops up, and thus the plot can continue to be modified. With interactive mode OFF all drawing is delayed until `plt.show()` is called, and this function blocks all further commands until the plot window is closed. This can be helpful to essentially pause a script to allow you to examine a figure before you close the script or move on to the next figure. \n",
    "\n",
    "To summarize non-interactive backends plot to static files while interactive backends plot to screen or embed in an application. When using an interactive backend the so-called \"interactive mode\" can be turned on or off. For interactive mode pyplot functions all automatically call for a redrawing of the figure, while most class library methods do not (you can force it by `draw()`)."
   ]
  },
  {
   "cell_type": "markdown",
   "metadata": {
    "deletable": true,
    "editable": true
   },
   "source": [
    "## Pylab and Pyplot\n",
    "See [this](http://stackoverflow.com/questions/11469336/what-is-the-difference-between-pylab-and-pyplot) stack overflow answer about the difference. **`Pylab` is a \"convenience\" module, installed alongside `matplotlib` which just bulk imports matplotlib.pyplot and numpy.** It is now deprecated and considered better to use the explicit matplotlib and numpy dependence. **`Pyplot` is a submodule of `matplotlib` which defines high-level functions for various common tasks - all of which could in theory be done with the lower-level classes and their methods in `matplotlib`.**"
   ]
  },
  {
   "cell_type": "code",
   "execution_count": 1,
   "metadata": {
    "collapsed": false,
    "deletable": true,
    "editable": true
   },
   "outputs": [
    {
     "ename": "ImportError",
     "evalue": "\n\nIMPORTANT: PLEASE READ THIS FOR ADVICE ON HOW TO SOLVE THIS ISSUE!\n\nImporting the numpy C-extensions failed. This error can happen for\nmany reasons, often due to issues with your setup or how NumPy was\ninstalled.\n\nWe have compiled some common reasons and troubleshooting tips at:\n\n    https://numpy.org/devdocs/user/troubleshooting-importerror.html\n\nPlease note and check the following:\n\n  * The Python version is: Python3.8 from \"C:\\Users\\Sonya\\Anaconda3\\envs\\scipybase_Jun2021\\python.exe\"\n  * The NumPy version is: \"1.21.0\"\n\nand make sure that they are the versions you expect.\nPlease carefully study the documentation linked above for further help.\n\nOriginal error was: DLL load failed while importing _multiarray_umath: The specified module could not be found.\n",
     "output_type": "error",
     "traceback": [
      "\u001b[1;31m---------------------------------------------------------------------------\u001b[0m",
      "\u001b[1;31mImportError\u001b[0m                               Traceback (most recent call last)",
      "\u001b[1;32m~\\Anaconda3\\envs\\scipybase_Jun2021\\lib\\site-packages\\numpy\\core\\__init__.py\u001b[0m in \u001b[0;36m<module>\u001b[1;34m\u001b[0m\n\u001b[0;32m     21\u001b[0m \u001b[1;32mtry\u001b[0m\u001b[1;33m:\u001b[0m\u001b[1;33m\u001b[0m\u001b[1;33m\u001b[0m\u001b[0m\n\u001b[1;32m---> 22\u001b[1;33m     \u001b[1;32mfrom\u001b[0m \u001b[1;33m.\u001b[0m \u001b[1;32mimport\u001b[0m \u001b[0mmultiarray\u001b[0m\u001b[1;33m\u001b[0m\u001b[1;33m\u001b[0m\u001b[0m\n\u001b[0m\u001b[0;32m     23\u001b[0m \u001b[1;32mexcept\u001b[0m \u001b[0mImportError\u001b[0m \u001b[1;32mas\u001b[0m \u001b[0mexc\u001b[0m\u001b[1;33m:\u001b[0m\u001b[1;33m\u001b[0m\u001b[1;33m\u001b[0m\u001b[0m\n",
      "\u001b[1;32m~\\Anaconda3\\envs\\scipybase_Jun2021\\lib\\site-packages\\numpy\\core\\multiarray.py\u001b[0m in \u001b[0;36m<module>\u001b[1;34m\u001b[0m\n\u001b[0;32m     11\u001b[0m \u001b[1;33m\u001b[0m\u001b[0m\n\u001b[1;32m---> 12\u001b[1;33m \u001b[1;32mfrom\u001b[0m \u001b[1;33m.\u001b[0m \u001b[1;32mimport\u001b[0m \u001b[0moverrides\u001b[0m\u001b[1;33m\u001b[0m\u001b[1;33m\u001b[0m\u001b[0m\n\u001b[0m\u001b[0;32m     13\u001b[0m \u001b[1;32mfrom\u001b[0m \u001b[1;33m.\u001b[0m \u001b[1;32mimport\u001b[0m \u001b[0m_multiarray_umath\u001b[0m\u001b[1;33m\u001b[0m\u001b[1;33m\u001b[0m\u001b[0m\n",
      "\u001b[1;32m~\\Anaconda3\\envs\\scipybase_Jun2021\\lib\\site-packages\\numpy\\core\\overrides.py\u001b[0m in \u001b[0;36m<module>\u001b[1;34m\u001b[0m\n\u001b[0;32m      6\u001b[0m \u001b[1;33m\u001b[0m\u001b[0m\n\u001b[1;32m----> 7\u001b[1;33m from numpy.core._multiarray_umath import (\n\u001b[0m\u001b[0;32m      8\u001b[0m     add_docstring, implement_array_function, _get_implementing_args)\n",
      "\u001b[1;31mImportError\u001b[0m: DLL load failed while importing _multiarray_umath: The specified module could not be found.",
      "\nDuring handling of the above exception, another exception occurred:\n",
      "\u001b[1;31mImportError\u001b[0m                               Traceback (most recent call last)",
      "\u001b[1;32m<ipython-input-1-1668fea624ea>\u001b[0m in \u001b[0;36m<module>\u001b[1;34m\u001b[0m\n\u001b[1;32m----> 1\u001b[1;33m \u001b[1;32mimport\u001b[0m \u001b[0mmatplotlib\u001b[0m\u001b[1;33m.\u001b[0m\u001b[0mpyplot\u001b[0m \u001b[1;32mas\u001b[0m \u001b[0mplt\u001b[0m\u001b[1;33m\u001b[0m\u001b[1;33m\u001b[0m\u001b[0m\n\u001b[0m\u001b[0;32m      2\u001b[0m \u001b[1;33m\u001b[0m\u001b[0m\n\u001b[0;32m      3\u001b[0m \u001b[0mzs\u001b[0m \u001b[1;33m=\u001b[0m \u001b[0mz\u001b[0m\u001b[1;33m.\u001b[0m\u001b[0mgroupby\u001b[0m\u001b[1;33m(\u001b[0m\u001b[0mz\u001b[0m\u001b[1;33m[\u001b[0m\u001b[1;34m\"dataset\"\u001b[0m\u001b[1;33m]\u001b[0m\u001b[1;33m)\u001b[0m\u001b[1;33m\u001b[0m\u001b[1;33m\u001b[0m\u001b[0m\n\u001b[0;32m      4\u001b[0m \u001b[0mlist\u001b[0m\u001b[1;33m(\u001b[0m\u001b[0mzs\u001b[0m\u001b[1;33m)\u001b[0m \u001b[1;31m# let's see what we've created\u001b[0m\u001b[1;33m\u001b[0m\u001b[1;33m\u001b[0m\u001b[0m\n\u001b[0;32m      5\u001b[0m \u001b[1;33m\u001b[0m\u001b[0m\n",
      "\u001b[1;32m~\\Anaconda3\\envs\\scipybase_Jun2021\\lib\\site-packages\\matplotlib\\__init__.py\u001b[0m in \u001b[0;36m<module>\u001b[1;34m\u001b[0m\n\u001b[0;32m    105\u001b[0m \u001b[1;31m# cbook must import matplotlib only within function\u001b[0m\u001b[1;33m\u001b[0m\u001b[1;33m\u001b[0m\u001b[1;33m\u001b[0m\u001b[0m\n\u001b[0;32m    106\u001b[0m \u001b[1;31m# definitions, so it is safe to import from it here.\u001b[0m\u001b[1;33m\u001b[0m\u001b[1;33m\u001b[0m\u001b[1;33m\u001b[0m\u001b[0m\n\u001b[1;32m--> 107\u001b[1;33m \u001b[1;32mfrom\u001b[0m \u001b[1;33m.\u001b[0m \u001b[1;32mimport\u001b[0m \u001b[0m_api\u001b[0m\u001b[1;33m,\u001b[0m \u001b[0mcbook\u001b[0m\u001b[1;33m,\u001b[0m \u001b[0mdocstring\u001b[0m\u001b[1;33m,\u001b[0m \u001b[0mrcsetup\u001b[0m\u001b[1;33m\u001b[0m\u001b[1;33m\u001b[0m\u001b[0m\n\u001b[0m\u001b[0;32m    108\u001b[0m \u001b[1;32mfrom\u001b[0m \u001b[0mmatplotlib\u001b[0m\u001b[1;33m.\u001b[0m\u001b[0mcbook\u001b[0m \u001b[1;32mimport\u001b[0m \u001b[0mMatplotlibDeprecationWarning\u001b[0m\u001b[1;33m,\u001b[0m \u001b[0msanitize_sequence\u001b[0m\u001b[1;33m\u001b[0m\u001b[1;33m\u001b[0m\u001b[0m\n\u001b[0;32m    109\u001b[0m \u001b[1;32mfrom\u001b[0m \u001b[0mmatplotlib\u001b[0m\u001b[1;33m.\u001b[0m\u001b[0mcbook\u001b[0m \u001b[1;32mimport\u001b[0m \u001b[0mmplDeprecation\u001b[0m  \u001b[1;31m# deprecated\u001b[0m\u001b[1;33m\u001b[0m\u001b[1;33m\u001b[0m\u001b[0m\n",
      "\u001b[1;32m~\\Anaconda3\\envs\\scipybase_Jun2021\\lib\\site-packages\\matplotlib\\cbook\\__init__.py\u001b[0m in \u001b[0;36m<module>\u001b[1;34m\u001b[0m\n\u001b[0;32m     26\u001b[0m \u001b[1;32mimport\u001b[0m \u001b[0mweakref\u001b[0m\u001b[1;33m\u001b[0m\u001b[1;33m\u001b[0m\u001b[0m\n\u001b[0;32m     27\u001b[0m \u001b[1;33m\u001b[0m\u001b[0m\n\u001b[1;32m---> 28\u001b[1;33m \u001b[1;32mimport\u001b[0m \u001b[0mnumpy\u001b[0m \u001b[1;32mas\u001b[0m \u001b[0mnp\u001b[0m\u001b[1;33m\u001b[0m\u001b[1;33m\u001b[0m\u001b[0m\n\u001b[0m\u001b[0;32m     29\u001b[0m \u001b[1;33m\u001b[0m\u001b[0m\n\u001b[0;32m     30\u001b[0m \u001b[1;32mimport\u001b[0m \u001b[0mmatplotlib\u001b[0m\u001b[1;33m\u001b[0m\u001b[1;33m\u001b[0m\u001b[0m\n",
      "\u001b[1;32m~\\Anaconda3\\envs\\scipybase_Jun2021\\lib\\site-packages\\numpy\\__init__.py\u001b[0m in \u001b[0;36m<module>\u001b[1;34m\u001b[0m\n\u001b[0;32m    148\u001b[0m     \u001b[1;32mfrom\u001b[0m \u001b[1;33m.\u001b[0m \u001b[1;32mimport\u001b[0m \u001b[0m_distributor_init\u001b[0m\u001b[1;33m\u001b[0m\u001b[1;33m\u001b[0m\u001b[0m\n\u001b[0;32m    149\u001b[0m \u001b[1;33m\u001b[0m\u001b[0m\n\u001b[1;32m--> 150\u001b[1;33m     \u001b[1;32mfrom\u001b[0m \u001b[1;33m.\u001b[0m \u001b[1;32mimport\u001b[0m \u001b[0mcore\u001b[0m\u001b[1;33m\u001b[0m\u001b[1;33m\u001b[0m\u001b[0m\n\u001b[0m\u001b[0;32m    151\u001b[0m     \u001b[1;32mfrom\u001b[0m \u001b[1;33m.\u001b[0m\u001b[0mcore\u001b[0m \u001b[1;32mimport\u001b[0m \u001b[1;33m*\u001b[0m\u001b[1;33m\u001b[0m\u001b[1;33m\u001b[0m\u001b[0m\n\u001b[0;32m    152\u001b[0m     \u001b[1;32mfrom\u001b[0m \u001b[1;33m.\u001b[0m \u001b[1;32mimport\u001b[0m \u001b[0mcompat\u001b[0m\u001b[1;33m\u001b[0m\u001b[1;33m\u001b[0m\u001b[0m\n",
      "\u001b[1;32m~\\Anaconda3\\envs\\scipybase_Jun2021\\lib\\site-packages\\numpy\\core\\__init__.py\u001b[0m in \u001b[0;36m<module>\u001b[1;34m\u001b[0m\n\u001b[0;32m     46\u001b[0m \"\"\" % (sys.version_info[0], sys.version_info[1], sys.executable,\n\u001b[0;32m     47\u001b[0m         __version__, exc)\n\u001b[1;32m---> 48\u001b[1;33m     \u001b[1;32mraise\u001b[0m \u001b[0mImportError\u001b[0m\u001b[1;33m(\u001b[0m\u001b[0mmsg\u001b[0m\u001b[1;33m)\u001b[0m\u001b[1;33m\u001b[0m\u001b[1;33m\u001b[0m\u001b[0m\n\u001b[0m\u001b[0;32m     49\u001b[0m \u001b[1;32mfinally\u001b[0m\u001b[1;33m:\u001b[0m\u001b[1;33m\u001b[0m\u001b[1;33m\u001b[0m\u001b[0m\n\u001b[0;32m     50\u001b[0m     \u001b[1;32mfor\u001b[0m \u001b[0menvkey\u001b[0m \u001b[1;32min\u001b[0m \u001b[0menv_added\u001b[0m\u001b[1;33m:\u001b[0m\u001b[1;33m\u001b[0m\u001b[1;33m\u001b[0m\u001b[0m\n",
      "\u001b[1;31mImportError\u001b[0m: \n\nIMPORTANT: PLEASE READ THIS FOR ADVICE ON HOW TO SOLVE THIS ISSUE!\n\nImporting the numpy C-extensions failed. This error can happen for\nmany reasons, often due to issues with your setup or how NumPy was\ninstalled.\n\nWe have compiled some common reasons and troubleshooting tips at:\n\n    https://numpy.org/devdocs/user/troubleshooting-importerror.html\n\nPlease note and check the following:\n\n  * The Python version is: Python3.8 from \"C:\\Users\\Sonya\\Anaconda3\\envs\\scipybase_Jun2021\\python.exe\"\n  * The NumPy version is: \"1.21.0\"\n\nand make sure that they are the versions you expect.\nPlease carefully study the documentation linked above for further help.\n\nOriginal error was: DLL load failed while importing _multiarray_umath: The specified module could not be found.\n"
     ]
    }
   ],
   "source": [
    "import matplotlib.pyplot as plt\n",
    "\n",
    "zs = z.groupby(z[\"dataset\"])\n",
    "list(zs) # let's see what we've created\n",
    "\n",
    "# Create a figure that we will add plots to\n",
    "fig = plt.figure()\n",
    "i = 1\n",
    "for key, zi in zs:\n",
    "    fit = np.polyfit(zi[\"x\"], zi[\"y\"], 1)\n",
    "    p = fig.add_subplot(2, 2, i) # put this plot into position i within a 2x2 grid\n",
    "    p.scatter(x=zi[\"x\"], y=zi[\"y\"])\n",
    "    p.plot(zi[\"x\"], fit[0]*zi[\"x\"] + fit[1], color=\"Red\")\n",
    "    i += 1\n",
    "\n",
    "fig.suptitle(\"Anscombe's Quartet\")"
   ]
  },
  {
   "cell_type": "code",
   "execution_count": null,
   "metadata": {
    "collapsed": true
   },
   "outputs": [],
   "source": []
  }
 ],
 "metadata": {
  "kernelspec": {
   "display_name": "Python [conda env:scipybase_Apr2019]",
   "language": "python",
   "name": "conda-env-scipybase_Apr2019-py"
  },
  "language_info": {
   "codemirror_mode": {
    "name": "ipython",
    "version": 3
   },
   "file_extension": ".py",
   "mimetype": "text/x-python",
   "name": "python",
   "nbconvert_exporter": "python",
   "pygments_lexer": "ipython3",
   "version": "3.6.7"
  },
  "toc": {
   "colors": {
    "hover_highlight": "#DAA520",
    "running_highlight": "#FF0000",
    "selected_highlight": "#FFD700"
   },
   "moveMenuLeft": true,
   "nav_menu": {
    "height": "12px",
    "width": "252px"
   },
   "navigate_menu": true,
   "number_sections": true,
   "sideBar": true,
   "threshold": 4,
   "toc_cell": true,
   "toc_section_display": "block",
   "toc_window_display": true
  }
 },
 "nbformat": 4,
 "nbformat_minor": 2
}
