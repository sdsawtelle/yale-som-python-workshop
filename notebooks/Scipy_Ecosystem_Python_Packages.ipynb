{
 "cells": [
  {
   "cell_type": "markdown",
   "metadata": {
    "deletable": true,
    "editable": true,
    "toc": "true"
   },
   "source": [
    "# Table of Contents\n",
    " <p><div class=\"lev1 toc-item\"><a href=\"#The-SciPy-Ecosystem\" data-toc-modified-id=\"The-SciPy-Ecosystem-1\"><span class=\"toc-item-num\">1&nbsp;&nbsp;</span>The SciPy Ecosystem</a></div><div class=\"lev1 toc-item\"><a href=\"#Pandas\" data-toc-modified-id=\"Pandas-2\"><span class=\"toc-item-num\">2&nbsp;&nbsp;</span>Pandas</a></div><div class=\"lev1 toc-item\"><a href=\"#NumPy\" data-toc-modified-id=\"NumPy-3\"><span class=\"toc-item-num\">3&nbsp;&nbsp;</span>NumPy</a></div><div class=\"lev1 toc-item\"><a href=\"#SciPy\" data-toc-modified-id=\"SciPy-4\"><span class=\"toc-item-num\">4&nbsp;&nbsp;</span>SciPy</a></div><div class=\"lev1 toc-item\"><a href=\"#Matplotlib\" data-toc-modified-id=\"Matplotlib-5\"><span class=\"toc-item-num\">5&nbsp;&nbsp;</span>Matplotlib</a></div>"
   ]
  },
  {
   "cell_type": "markdown",
   "metadata": {},
   "source": [
    "# The SciPy Ecosystem\n",
    "\n",
    " The \"SciPy ecosystem\" is a collection of Python packages designed to streamline many of the common tasks involved in data science. We'll begin this workshop by taking a look at four of those packages, focusing on the features that I find most important and occasionally highlighting similarities and differences with how things work in R.\n",
    "\n",
    "- https://www.scipy.org/"
   ]
  },
  {
   "cell_type": "markdown",
   "metadata": {},
   "source": [
    "# Pandas\n",
    "Pandas is the top package for manipulating tabular-form data. The most important aspect of Pandas is that it defines a DataFrame class that comes with many convenient methods that R users are used to."
   ]
  },
  {
   "cell_type": "code",
   "execution_count": null,
   "metadata": {
    "collapsed": true
   },
   "outputs": [],
   "source": [
    "import pandas as pd\n",
    "\n",
    "data_url = \"https://raw.githubusercontent.com/mwaskom/seaborn-data/master/anscombe.csv\"\n",
    "z = pd.read_csv(data_url) # import data as a DataFrame, analogous to \"read.csv(data_url)\"\n",
    "\n",
    "\n",
    "\n",
    "## BASICS\n",
    "\n",
    "z.head() # analogous to \"head(z)\"\n",
    "z.head(20) # analogous to \"head(z, 10)\"\n",
    "z.shape # analogous to \"dim(z)\"\n",
    "z.columns # analogous to \"names(z)\"\n",
    "z.describe() # analogous to \"summary(z)\"\n",
    "\n",
    "\n",
    "\n",
    "### SUBSETTING\n",
    "\n",
    "\n",
    "## retrieving specified columns\n",
    "\n",
    "z[\"x\"]\n",
    "z[[\"x\", \"y\"]]\n",
    "\n",
    "\n",
    "## retrieving the rows that satisfy a specified condition\n",
    "\n",
    "z[\"x\"] > 10 # creates a vector of True/False values telling you whether each row's x-val is > 10\n",
    "z[z[\"x\"] > 10] # selects the rows that have x-val > 10\n",
    "z[(z[\"x\"] > 10) & (z[\"dataset\"]==\"II\")] # selects the rows that have x-val > 10 and dataset equal to \"II\"\n",
    "z[(z[\"x\"] > 10) | (z[\"dataset\"]==\"II\")] # selects the rows that have x-val > 10 or dataset equal to \"II\"\n",
    "\n",
    "\n",
    "\n",
    "## subsetting by INDEX: iloc\n",
    "\n",
    "# - single argument retrieves row, two arguments specify row(s) then column(s)\n",
    "\n",
    "z.iloc[0]\n",
    "list(z.iloc[0])\n",
    "z.iloc[:4, :] # rows 0 through 3, all columns\n",
    "z.iloc[1:4, 1:3] # rows 1 through 3, columns 1 through 2\n",
    "\n",
    "\n",
    "## subsetting by NAME: loc\n",
    "\n",
    "# - again, single argument retrieves row, two arguments specify row(s) then column(s)\n",
    "\n",
    "z.loc[0] # the first row has 0 as its rowname\n",
    "# But be careful: index names are preserved when new objects are created by subsetting\n",
    "zz = z.iloc[3:6, :]\n",
    "zz\n",
    "zz.iloc[0] # zz has a row with index 0\n",
    "zz.loc[0] # but its first row isn't named 0\n",
    "zz.loc[3] # it's name is (still) 3\n",
    "z.loc[3:6] # also notice that BOTH endpoints are included when using names - very tricky!\n",
    "\n",
    "z.loc[:4, \"x\"]\n",
    "z.loc[:, [\"x\", \"y\"]] # same as z[[\"x\", \"y\"]]\n",
    "\n",
    "\n",
    "\n",
    "# REMINDER about list pointers and copy()\n",
    "# Let's see a behavior of lists that can be confusing\n",
    "zz.loc[3, \"x\"] = -1\n",
    "zz\n",
    "z.head() # it changed the original DataFrame as well!\n",
    "z.loc[3, \"x\"] = 9 # let's change it back\n",
    "\n",
    "zz = z.iloc[3:6, :].copy() # to prevent this issue, we could have explicitly made a copy\n",
    "zz.loc[3, \"x\"] = -1 # change the copy\n",
    "z.head() # check the original\n",
    "# we've verified that this time, we didn't change the original, only the copy"
   ]
  },
  {
   "cell_type": "code",
   "execution_count": null,
   "metadata": {
    "collapsed": true
   },
   "outputs": [],
   "source": [
    "## EXERCISE: Find the sample standard deviation of the y-values in dataset III.\n",
    "##           (Remember the \"describe\" function.)"
   ]
  },
  {
   "cell_type": "code",
   "execution_count": null,
   "metadata": {
    "collapsed": true
   },
   "outputs": [],
   "source": [
    "## CALCULATIONS\n",
    "\n",
    "# Pandas defines a Series object type; each column of a DataFrame is a Series.\n",
    "# In fact, a DataFrame is a dictionary\n",
    "# - each key is a variable name and its value is the corresponding column.\n",
    "type(z[[\"x\", \"y\"]])\n",
    "type(z[\"x\"])\n",
    "\n",
    "# The head, describe, mean, and additional methods listed here work on Series objects\n",
    "# or can be easily \"applied\" to the columns or rows of a DataFrame\n",
    "z[\"x\"].mean()\n",
    "z[\"x\"].sum()\n",
    "z[\"x\"].std()\n",
    "z[\"x\"].min()\n",
    "z[\"x\"].abs()\n",
    "z[\"x\"].median()\n",
    "\n",
    "# apply to every column or to every row\n",
    "z.mean() # analogous to \"apply(z, 2, mean)\"\n",
    "z.mean(axis=1) # \"apply(z, 1, mean)\"\n",
    "# can also use an \"apply\" method to specify your own function\n",
    "z[[\"x\", \"y\"]].apply(sum)\n",
    "z[[\"x\", \"y\"]].apply(sum, axis=1)\n",
    "\n",
    "# easily perform an arithmetic operation to every entry of a Series\n",
    "z[\"x\"]**2 # \"z$x^2\" in R\n",
    "3*z[\"x\"] # \"3*z$x\" in R\n",
    "# you can't use this syntax with ordinary Python lists!\n",
    "# you'd use \"list comprehension\" instead: [3*i for i in z[\"x\"]]\n",
    "\n",
    "# multiply two vectors, entry by entry\n",
    "z[\"x\"]*z[\"y\"]\n",
    "# dot product of x and y:\n",
    "sum(z[\"x\"]*z[\"y\"])\n",
    "\n",
    "# splitting up by a categorical variable\n",
    "# The \"groupby\" function in Pandas is analogous to \"aggregate\" or \"split\" in R.\n",
    "z.groupby(z[\"dataset\"]).describe()\n",
    "\n",
    "# correlation matrix of each group\n",
    "z.groupby(z[\"dataset\"]).corr()\n",
    "\n",
    "# You can loop through the groups\n",
    "for groupname, groupdata in z.groupby(\"dataset\"):\n",
    "    print(groupname)\n",
    "    print(groupdata)\n",
    "\n",
    "for name, group in z.groupby(\"dataset\")[\"x\"]:\n",
    "    print(name)\n",
    "    print(group)"
   ]
  },
  {
   "cell_type": "code",
   "execution_count": null,
   "metadata": {
    "collapsed": true
   },
   "outputs": [],
   "source": [
    "## EXERCISE: Find the dot product of x and y within each of the four datasets."
   ]
  },
  {
   "cell_type": "code",
   "execution_count": null,
   "metadata": {
    "collapsed": true
   },
   "outputs": [],
   "source": [
    "## PLOTTING\n",
    "\n",
    "z1 = z[z[\"dataset\"]==\"I\"] # dataset \"I\"\n",
    "\n",
    "z1[\"x\"].plot(kind=\"hist\")\n",
    "# My plot appears in new window (check behind Spyder if you don't see it)\n",
    "# Note you can save a plot from the Spyder console by right-clicking it\n",
    "# and selecting \"Save Image As...\"\n",
    "# Or if your plot is in a pop-up window, that window has a save button.\n",
    "\n",
    "z1.plot(kind=\"scatter\", x=\"x\", y=\"y\")\n",
    "\n",
    "z.groupby(z[\"dataset\"]).plot(kind=\"scatter\", x=\"x\", y=\"y\")\n",
    "\n",
    "# Pandas only has some basic plotting capabilities.\n",
    "# For more sophisticated plotting, we'll use Matplotlib below."
   ]
  },
  {
   "cell_type": "markdown",
   "metadata": {},
   "source": [
    "# NumPy\n",
    "Some NumPy functionality is automatically imported with and used by Pandas"
   ]
  },
  {
   "cell_type": "code",
   "execution_count": null,
   "metadata": {
    "collapsed": true
   },
   "outputs": [],
   "source": [
    "import numpy as np\n",
    "\n",
    "## LINEAR REGRESSION\n",
    "\n",
    "fit = np.polyfit(z1[\"x\"], z1[\"y\"], 1) # least-squares fit of first-order polynomial (i.e. line)\n",
    "fit # Careful: this is slope then intercept - reversed order compared to R\n",
    "\n",
    "# redraw scatterplot with least-squares line\n",
    "z1.plot(kind=\"scatter\", x=\"x\", y=\"y\").plot(z1[\"x\"], fit[0]*z1[\"x\"] + fit[1], color=\"Red\")"
   ]
  },
  {
   "cell_type": "code",
   "execution_count": null,
   "metadata": {
    "collapsed": true
   },
   "outputs": [],
   "source": [
    "## ARRAYS\n",
    "\n",
    "a = np.array([1, 3, 2]) # one-dimensional array, i.e. vector\n",
    "a\n",
    "np.array((1, 3, 2)) # or putting a tuple rather than list - creates same array\n",
    "a[:2] # subsetting works as usual for Python lists\n",
    "\n",
    "b = np.array([a, (4, 5, 6)]) # two-dimensional array, i.e. matrix\n",
    "b\n",
    "print(b)\n",
    "\n",
    "b[:, :2] # subsetting all rows and first two columns\n",
    "b[0, 1] = 8 # set row 0 column 1 entry to 8\n",
    "print(b)\n",
    "\n",
    "b[0] # if only one index is provided, it refers to the row(s) and full column slices are taken\n",
    "b[-1]\n",
    "\n",
    "# arithmetic operations apply to each entry of an array\n",
    "b+1\n",
    "2*b\n",
    "b**2\n",
    "2*b - b # subtracts corresponding entries\n",
    "# (in fact Pandas Series objects are a type of array - they inherit this behavior)\n",
    "\n",
    "b.sum(axis=0)\n",
    "b.sum(axis=1)\n",
    "b.sum() # adds up all the numbers in the matrix\n",
    "\n",
    "# more sophisticated vector and matrix operations\n",
    "a.mean() # an equivalent command is \"np.mean(a)\"\n",
    "a.var()\n",
    "a.argmax()\n",
    "a.sort() # note that this is an in-place function! it changes the object rather than just returning a sorted version\n",
    "a\n",
    "\n",
    "np.dot(b[0], b[1]) # dot product\n",
    "\n",
    "b.transpose() # equivalently \"np.transpose(b)\"\n",
    "np.cov(b) # covariance matrix\n",
    "b @ b.transpose() # matrix multiplication\n",
    "\n",
    "np.linalg.svd(b) # singular value decomposition\n",
    "\n",
    "\n",
    "\n",
    "## MATHEMATICAL FUNCTIONS AND CONSTANTS\n",
    "\n",
    "np.cos(np.pi)\n",
    "np.exp(np.log(np.sqrt(25)))\n",
    "\n",
    "\n",
    "# https://www.numpy.org/devdocs/user/quickstart.html\n",
    "\n",
    "\n",
    "## EXERCISE: Find the variance of each row of b."
   ]
  },
  {
   "cell_type": "markdown",
   "metadata": {},
   "source": [
    "# SciPy \n",
    "\n",
    "Note that the SciPy package is one of the many packages in the SciPy ecosystem. The terminology can be confusing!"
   ]
  },
  {
   "cell_type": "code",
   "execution_count": null,
   "metadata": {
    "collapsed": true
   },
   "outputs": [],
   "source": [
    "## LINEAR ALGEBRA\n",
    "\n",
    "from scipy.linalg import svd, inv\n",
    "\n",
    "svd(b) # singular value decomposition, agrees with the NumPy function\n",
    "inv(b @ b.transpose()) # inverse matrix\n",
    "\n",
    "# https://docs.scipy.org/doc/scipy/reference/linalg.html\n",
    "\n",
    "\n",
    "\n",
    "## PROBABILITY DISTRIBUTIONS\n",
    "\n",
    "from scipy.stats import norm # functions for Normal distributions\n",
    "from scipy.stats import f # functions for F distributions\n",
    "\n",
    "# cdf and inverse cdf\n",
    "2*norm.cdf(-2) # twice the probability of a standard Normal draw being less than -2\n",
    "norm.ppf(.975) # a standard Normal draw has probability .975 of being less than this value\n",
    "\n",
    "1-f.cdf(2, 1, 12) # probability that a draw from f_{1, 12} is greater than 2\n",
    "\n",
    "\n",
    "# simulating random samples\n",
    "\n",
    "norm.rvs(size=10)\n",
    "f.rvs(1, 12, size=10)\n",
    "\n",
    "# For more functions and distributions, see\n",
    "# https://docs.scipy.org/doc/scipy/reference/stats.html\n",
    "\n",
    "# https://www.tutorialspoint.com/scipy/scipy_introduction.htm"
   ]
  },
  {
   "cell_type": "markdown",
   "metadata": {},
   "source": [
    "# Matplotlib"
   ]
  },
  {
   "cell_type": "code",
   "execution_count": null,
   "metadata": {
    "collapsed": true
   },
   "outputs": [],
   "source": [
    "import matplotlib.pyplot as plt\n",
    "\n",
    "zs = z.groupby(z[\"dataset\"])\n",
    "list(zs) # let's see what we've created\n",
    "\n",
    "# Create a figure that we will add plots to\n",
    "fig = plt.figure()\n",
    "i = 1\n",
    "for key, zi in zs:\n",
    "    fit = np.polyfit(zi[\"x\"], zi[\"y\"], 1)\n",
    "    p = fig.add_subplot(2, 2, i) # put this plot into position i within a 2x2 grid\n",
    "    p.scatter(x=zi[\"x\"], y=zi[\"y\"])\n",
    "    p.plot(zi[\"x\"], fit[0]*zi[\"x\"] + fit[1], color=\"Red\")\n",
    "    i += 1\n",
    "\n",
    "fig.suptitle(\"Anscombe's Quartet\")"
   ]
  }
 ],
 "metadata": {
  "kernelspec": {
   "display_name": "Python [conda env:scipybase_Jun2021]",
   "language": "python",
   "name": "conda-env-scipybase_Jun2021-py"
  },
  "language_info": {
   "codemirror_mode": {
    "name": "ipython",
    "version": 3
   },
   "file_extension": ".py",
   "mimetype": "text/x-python",
   "name": "python",
   "nbconvert_exporter": "python",
   "pygments_lexer": "ipython3",
   "version": "3.8.10"
  },
  "toc": {
   "colors": {
    "hover_highlight": "#DAA520",
    "running_highlight": "#FF0000",
    "selected_highlight": "#FFD700"
   },
   "moveMenuLeft": true,
   "nav_menu": {
    "height": "12px",
    "width": "252px"
   },
   "navigate_menu": true,
   "number_sections": true,
   "sideBar": true,
   "threshold": 4,
   "toc_cell": true,
   "toc_section_display": "block",
   "toc_window_display": true
  }
 },
 "nbformat": 4,
 "nbformat_minor": 2
}
