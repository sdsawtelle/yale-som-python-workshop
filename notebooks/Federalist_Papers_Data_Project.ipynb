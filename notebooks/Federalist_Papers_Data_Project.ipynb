{
 "cells": [
  {
   "cell_type": "markdown",
   "metadata": {
    "deletable": true,
    "editable": true,
    "toc": "true"
   },
   "source": [
    "# Table of Contents\n",
    " <p><div class=\"lev1 toc-item\"><a href=\"#Attempt-to-Fix-SSL-Issue\" data-toc-modified-id=\"Attempt-to-Fix-SSL-Issue-1\"><span class=\"toc-item-num\">1&nbsp;&nbsp;</span>Attempt to Fix SSL Issue</a></div><div class=\"lev1 toc-item\"><a href=\"#Part-1---Scraping-The-Federalist-Papers\" data-toc-modified-id=\"Part-1---Scraping-The-Federalist-Papers-2\"><span class=\"toc-item-num\">2&nbsp;&nbsp;</span>Part 1 - Scraping The Federalist Papers</a></div>"
   ]
  },
  {
   "cell_type": "markdown",
   "metadata": {},
   "source": [
    "# Attempt to Fix SSL Issue"
   ]
  },
  {
   "cell_type": "markdown",
   "metadata": {},
   "source": [
    "Received the following error when trying to scrap the federalist papers using the Python 3.8 conda environment:\n",
    "\n",
    "```\n",
    "SSLError: HTTPSConnectionPool(host='avalon.law.yale.edu', port=443): Max retries exceeded with url: /18th_century/fed01.asp (Caused by SSLError(\"Can't connect to HTTPS URL because the SSL module is not available.\"))\n",
    "```\n",
    "\n",
    "Possibly [this SO answer](https://stackoverflow.com/a/45909353) is the reason why. I tried [this SO answer](https://stackoverflow.com/a/55632553) by adding to the shell `PATH` variable (did not modify system `PATH`), but no dice. I also tried `verify=False` in the `get` method but still have the same error."
   ]
  },
  {
   "cell_type": "code",
   "execution_count": 1,
   "metadata": {
    "collapsed": false,
    "deletable": true,
    "editable": true
   },
   "outputs": [
    {
     "data": {
      "text/plain": [
       "['C:\\\\Users\\\\Sonya\\\\Anaconda3\\\\Scripts\\\\anaconda.exe']"
      ]
     },
     "execution_count": 1,
     "metadata": {},
     "output_type": "execute_result"
    }
   ],
   "source": [
    "# Shell command to find out where anaconda is installed\n",
    "anaconda_exec = !where anaconda\n",
    "anaconda_exec"
   ]
  },
  {
   "cell_type": "code",
   "execution_count": 7,
   "metadata": {
    "collapsed": true,
    "deletable": true,
    "editable": true
   },
   "outputs": [],
   "source": [
    "# Modify path \n",
    "import sys\n",
    "sys.path.append(\"C:\\\\Users\\\\Sonya\\\\Anaconda3\")\n",
    "sys.path.append(\"C:\\\\Users\\\\Sonya\\\\Anaconda3\\\\Scripts\")\n",
    "sys.path.append(\"C:\\\\Users\\\\Sonya\\\\Anaconda3\\\\Library\\\\bin\")\n",
    "sys.path.append(\"C:\\\\Users\\\\Sonya\\\\Anaconda3\\\\envs\\\\scipybase_Jun2021\")\n",
    "sys.path.append(\"C:\\\\Users\\\\Sonya\\\\Anaconda3\\\\envs\\\\scipybase_Jun2021\\\\Scripts\")\n",
    "sys.path.append(\"C:\\\\Users\\\\Sonya\\\\Anaconda3\\\\envs\\\\scipybase_Jun2021\\\\Library\\\\bin\")"
   ]
  },
  {
   "cell_type": "code",
   "execution_count": 8,
   "metadata": {
    "collapsed": false,
    "scrolled": false
   },
   "outputs": [
    {
     "data": {
      "text/plain": [
       "['C:\\\\Users\\\\Sonya\\\\Box Sync\\\\Projects\\\\workshop-yale-som-python\\\\notebooks',\n",
       " 'C:\\\\Users\\\\Sonya\\\\Box Sync\\\\Projects\\\\python-wrappers-and-snippets',\n",
       " 'C:\\\\Users\\\\Sonya\\\\Box Sync\\\\Projects\\\\consulting-data-science\\\\170220_ChazBatt_SecuritiesTransactions\\\\deliverables\\\\securitytrx',\n",
       " 'C:\\\\Users\\\\Sonya\\\\Box Sync\\\\Projects\\\\consulting-data-science\\\\181106_AdityaSavara_PyMC\\\\bivariate_ea_k0\\\\0ModelInputs',\n",
       " 'C:\\\\Users\\\\Sonya\\\\Box Sync\\\\Projects\\\\workshop-yale-som-python\\\\notebooks',\n",
       " 'C:\\\\Users\\\\Sonya\\\\Anaconda3\\\\envs\\\\scipybase_Jun2021\\\\python38.zip',\n",
       " 'C:\\\\Users\\\\Sonya\\\\Anaconda3\\\\envs\\\\scipybase_Jun2021\\\\DLLs',\n",
       " 'C:\\\\Users\\\\Sonya\\\\Anaconda3\\\\envs\\\\scipybase_Jun2021\\\\lib',\n",
       " 'C:\\\\Users\\\\Sonya\\\\Anaconda3\\\\envs\\\\scipybase_Jun2021',\n",
       " '',\n",
       " 'C:\\\\Users\\\\Sonya\\\\Anaconda3\\\\envs\\\\scipybase_Jun2021\\\\lib\\\\site-packages',\n",
       " 'C:\\\\Users\\\\Sonya\\\\Anaconda3\\\\envs\\\\scipybase_Jun2021\\\\lib\\\\site-packages\\\\win32',\n",
       " 'C:\\\\Users\\\\Sonya\\\\Anaconda3\\\\envs\\\\scipybase_Jun2021\\\\lib\\\\site-packages\\\\win32\\\\lib',\n",
       " 'C:\\\\Users\\\\Sonya\\\\Anaconda3\\\\envs\\\\scipybase_Jun2021\\\\lib\\\\site-packages\\\\Pythonwin',\n",
       " 'C:\\\\Users\\\\Sonya\\\\Anaconda3\\\\envs\\\\scipybase_Jun2021\\\\lib\\\\site-packages\\\\IPython\\\\extensions',\n",
       " 'C:\\\\Users\\\\Sonya\\\\.ipython',\n",
       " 'C:\\\\Users\\\\Sonya\\\\Anaconda3\\\\envs\\\\scipybase_Jun2021\\\\',\n",
       " 'C:\\\\Users\\\\Sonya\\\\Anaconda3\\\\envs\\\\scipybase_Jun2021\\\\Scripts',\n",
       " 'C:\\\\Users\\\\Sonya\\\\Anaconda3\\\\envs\\\\scipybase_Jun2021\\\\Library\\\\bin',\n",
       " 'C:\\\\Users\\\\Sonya\\\\Anaconda3',\n",
       " 'C:\\\\Users\\\\Sonya\\\\Anaconda3\\\\Scripts',\n",
       " 'C:\\\\Users\\\\Sonya\\\\Anaconda3\\\\Library\\\\bin',\n",
       " 'C:\\\\Users\\\\Sonya\\\\Anaconda3\\\\envs\\\\scipybase_Jun2021',\n",
       " 'C:\\\\Users\\\\Sonya\\\\Anaconda3\\\\envs\\\\scipybase_Jun2021\\\\Scripts',\n",
       " 'C:\\\\Users\\\\Sonya\\\\Anaconda3\\\\envs\\\\scipybase_Jun2021\\\\Library\\\\bin']"
      ]
     },
     "execution_count": 8,
     "metadata": {},
     "output_type": "execute_result"
    }
   ],
   "source": [
    "# Verify path env variable\n",
    "sys.path"
   ]
  },
  {
   "cell_type": "markdown",
   "metadata": {
    "deletable": true,
    "editable": true
   },
   "source": [
    "# Part 1 - Scraping The Federalist Papers ###"
   ]
  },
  {
   "cell_type": "code",
   "execution_count": 9,
   "metadata": {
    "collapsed": true
   },
   "outputs": [],
   "source": [
    "import requests\n",
    "from bs4 import BeautifulSoup\n",
    "import os\n",
    "from pathlib import Path  # This is a useful class for constructing file system paths\n",
    "import time"
   ]
  },
  {
   "cell_type": "code",
   "execution_count": 10,
   "metadata": {
    "collapsed": false
   },
   "outputs": [],
   "source": [
    "# Set the data folder and the number of papers to scrape (papers are identified by integers)\n",
    "datapath = Path(r\"../data/federalist_papers\")\n",
    "# num_papers = 85\n",
    "num_papers = 2"
   ]
  },
  {
   "cell_type": "code",
   "execution_count": 11,
   "metadata": {
    "collapsed": false
   },
   "outputs": [
    {
     "name": "stdout",
     "output_type": "stream",
     "text": [
      "1\n"
     ]
    },
    {
     "ename": "SSLError",
     "evalue": "HTTPSConnectionPool(host='avalon.law.yale.edu', port=443): Max retries exceeded with url: /18th_century/fed01.asp (Caused by SSLError(\"Can't connect to HTTPS URL because the SSL module is not available.\"))",
     "output_type": "error",
     "traceback": [
      "\u001b[1;31m---------------------------------------------------------------------------\u001b[0m",
      "\u001b[1;31mSSLError\u001b[0m                                  Traceback (most recent call last)",
      "\u001b[1;32m~\\Anaconda3\\envs\\scipybase_Jun2021\\lib\\site-packages\\urllib3\\connectionpool.py\u001b[0m in \u001b[0;36murlopen\u001b[1;34m(self, method, url, body, headers, retries, redirect, assert_same_host, timeout, pool_timeout, release_conn, chunked, body_pos, **response_kw)\u001b[0m\n\u001b[0;32m    687\u001b[0m             \u001b[0mtimeout_obj\u001b[0m \u001b[1;33m=\u001b[0m \u001b[0mself\u001b[0m\u001b[1;33m.\u001b[0m\u001b[0m_get_timeout\u001b[0m\u001b[1;33m(\u001b[0m\u001b[0mtimeout\u001b[0m\u001b[1;33m)\u001b[0m\u001b[1;33m\u001b[0m\u001b[1;33m\u001b[0m\u001b[0m\n\u001b[1;32m--> 688\u001b[1;33m             \u001b[0mconn\u001b[0m \u001b[1;33m=\u001b[0m \u001b[0mself\u001b[0m\u001b[1;33m.\u001b[0m\u001b[0m_get_conn\u001b[0m\u001b[1;33m(\u001b[0m\u001b[0mtimeout\u001b[0m\u001b[1;33m=\u001b[0m\u001b[0mpool_timeout\u001b[0m\u001b[1;33m)\u001b[0m\u001b[1;33m\u001b[0m\u001b[1;33m\u001b[0m\u001b[0m\n\u001b[0m\u001b[0;32m    689\u001b[0m \u001b[1;33m\u001b[0m\u001b[0m\n",
      "\u001b[1;32m~\\Anaconda3\\envs\\scipybase_Jun2021\\lib\\site-packages\\urllib3\\connectionpool.py\u001b[0m in \u001b[0;36m_get_conn\u001b[1;34m(self, timeout)\u001b[0m\n\u001b[0;32m    279\u001b[0m \u001b[1;33m\u001b[0m\u001b[0m\n\u001b[1;32m--> 280\u001b[1;33m         \u001b[1;32mreturn\u001b[0m \u001b[0mconn\u001b[0m \u001b[1;32mor\u001b[0m \u001b[0mself\u001b[0m\u001b[1;33m.\u001b[0m\u001b[0m_new_conn\u001b[0m\u001b[1;33m(\u001b[0m\u001b[1;33m)\u001b[0m\u001b[1;33m\u001b[0m\u001b[1;33m\u001b[0m\u001b[0m\n\u001b[0m\u001b[0;32m    281\u001b[0m \u001b[1;33m\u001b[0m\u001b[0m\n",
      "\u001b[1;32m~\\Anaconda3\\envs\\scipybase_Jun2021\\lib\\site-packages\\urllib3\\connectionpool.py\u001b[0m in \u001b[0;36m_new_conn\u001b[1;34m(self)\u001b[0m\n\u001b[0;32m    978\u001b[0m         \u001b[1;32mif\u001b[0m \u001b[1;32mnot\u001b[0m \u001b[0mself\u001b[0m\u001b[1;33m.\u001b[0m\u001b[0mConnectionCls\u001b[0m \u001b[1;32mor\u001b[0m \u001b[0mself\u001b[0m\u001b[1;33m.\u001b[0m\u001b[0mConnectionCls\u001b[0m \u001b[1;32mis\u001b[0m \u001b[0mDummyConnection\u001b[0m\u001b[1;33m:\u001b[0m\u001b[1;33m\u001b[0m\u001b[1;33m\u001b[0m\u001b[0m\n\u001b[1;32m--> 979\u001b[1;33m             raise SSLError(\n\u001b[0m\u001b[0;32m    980\u001b[0m                 \u001b[1;34m\"Can't connect to HTTPS URL because the SSL module is not available.\"\u001b[0m\u001b[1;33m\u001b[0m\u001b[1;33m\u001b[0m\u001b[0m\n",
      "\u001b[1;31mSSLError\u001b[0m: Can't connect to HTTPS URL because the SSL module is not available.",
      "\nDuring handling of the above exception, another exception occurred:\n",
      "\u001b[1;31mMaxRetryError\u001b[0m                             Traceback (most recent call last)",
      "\u001b[1;32m~\\Anaconda3\\envs\\scipybase_Jun2021\\lib\\site-packages\\requests\\adapters.py\u001b[0m in \u001b[0;36msend\u001b[1;34m(self, request, stream, timeout, verify, cert, proxies)\u001b[0m\n\u001b[0;32m    438\u001b[0m             \u001b[1;32mif\u001b[0m \u001b[1;32mnot\u001b[0m \u001b[0mchunked\u001b[0m\u001b[1;33m:\u001b[0m\u001b[1;33m\u001b[0m\u001b[1;33m\u001b[0m\u001b[0m\n\u001b[1;32m--> 439\u001b[1;33m                 resp = conn.urlopen(\n\u001b[0m\u001b[0;32m    440\u001b[0m                     \u001b[0mmethod\u001b[0m\u001b[1;33m=\u001b[0m\u001b[0mrequest\u001b[0m\u001b[1;33m.\u001b[0m\u001b[0mmethod\u001b[0m\u001b[1;33m,\u001b[0m\u001b[1;33m\u001b[0m\u001b[1;33m\u001b[0m\u001b[0m\n",
      "\u001b[1;32m~\\Anaconda3\\envs\\scipybase_Jun2021\\lib\\site-packages\\urllib3\\connectionpool.py\u001b[0m in \u001b[0;36murlopen\u001b[1;34m(self, method, url, body, headers, retries, redirect, assert_same_host, timeout, pool_timeout, release_conn, chunked, body_pos, **response_kw)\u001b[0m\n\u001b[0;32m    754\u001b[0m \u001b[1;33m\u001b[0m\u001b[0m\n\u001b[1;32m--> 755\u001b[1;33m             retries = retries.increment(\n\u001b[0m\u001b[0;32m    756\u001b[0m                 \u001b[0mmethod\u001b[0m\u001b[1;33m,\u001b[0m \u001b[0murl\u001b[0m\u001b[1;33m,\u001b[0m \u001b[0merror\u001b[0m\u001b[1;33m=\u001b[0m\u001b[0me\u001b[0m\u001b[1;33m,\u001b[0m \u001b[0m_pool\u001b[0m\u001b[1;33m=\u001b[0m\u001b[0mself\u001b[0m\u001b[1;33m,\u001b[0m \u001b[0m_stacktrace\u001b[0m\u001b[1;33m=\u001b[0m\u001b[0msys\u001b[0m\u001b[1;33m.\u001b[0m\u001b[0mexc_info\u001b[0m\u001b[1;33m(\u001b[0m\u001b[1;33m)\u001b[0m\u001b[1;33m[\u001b[0m\u001b[1;36m2\u001b[0m\u001b[1;33m]\u001b[0m\u001b[1;33m\u001b[0m\u001b[1;33m\u001b[0m\u001b[0m\n",
      "\u001b[1;32m~\\Anaconda3\\envs\\scipybase_Jun2021\\lib\\site-packages\\urllib3\\util\\retry.py\u001b[0m in \u001b[0;36mincrement\u001b[1;34m(self, method, url, response, error, _pool, _stacktrace)\u001b[0m\n\u001b[0;32m    573\u001b[0m         \u001b[1;32mif\u001b[0m \u001b[0mnew_retry\u001b[0m\u001b[1;33m.\u001b[0m\u001b[0mis_exhausted\u001b[0m\u001b[1;33m(\u001b[0m\u001b[1;33m)\u001b[0m\u001b[1;33m:\u001b[0m\u001b[1;33m\u001b[0m\u001b[1;33m\u001b[0m\u001b[0m\n\u001b[1;32m--> 574\u001b[1;33m             \u001b[1;32mraise\u001b[0m \u001b[0mMaxRetryError\u001b[0m\u001b[1;33m(\u001b[0m\u001b[0m_pool\u001b[0m\u001b[1;33m,\u001b[0m \u001b[0murl\u001b[0m\u001b[1;33m,\u001b[0m \u001b[0merror\u001b[0m \u001b[1;32mor\u001b[0m \u001b[0mResponseError\u001b[0m\u001b[1;33m(\u001b[0m\u001b[0mcause\u001b[0m\u001b[1;33m)\u001b[0m\u001b[1;33m)\u001b[0m\u001b[1;33m\u001b[0m\u001b[1;33m\u001b[0m\u001b[0m\n\u001b[0m\u001b[0;32m    575\u001b[0m \u001b[1;33m\u001b[0m\u001b[0m\n",
      "\u001b[1;31mMaxRetryError\u001b[0m: HTTPSConnectionPool(host='avalon.law.yale.edu', port=443): Max retries exceeded with url: /18th_century/fed01.asp (Caused by SSLError(\"Can't connect to HTTPS URL because the SSL module is not available.\"))",
      "\nDuring handling of the above exception, another exception occurred:\n",
      "\u001b[1;31mSSLError\u001b[0m                                  Traceback (most recent call last)",
      "\u001b[1;32m<ipython-input-11-0599355ab633>\u001b[0m in \u001b[0;36m<module>\u001b[1;34m\u001b[0m\n\u001b[0;32m      8\u001b[0m \u001b[1;33m\u001b[0m\u001b[0m\n\u001b[0;32m      9\u001b[0m     \u001b[1;31m# Request HTML of the page for the i^th paper\u001b[0m\u001b[1;33m\u001b[0m\u001b[1;33m\u001b[0m\u001b[1;33m\u001b[0m\u001b[0m\n\u001b[1;32m---> 10\u001b[1;33m     \u001b[0mr\u001b[0m \u001b[1;33m=\u001b[0m \u001b[0mrequests\u001b[0m\u001b[1;33m.\u001b[0m\u001b[0mget\u001b[0m\u001b[1;33m(\u001b[0m\u001b[1;34m\"http://avalon.law.yale.edu/18th_century/fed%s.asp\"\u001b[0m \u001b[1;33m%\u001b[0m \u001b[0mID\u001b[0m\u001b[1;33m,\u001b[0m \u001b[0mverify\u001b[0m\u001b[1;33m=\u001b[0m\u001b[1;32mFalse\u001b[0m\u001b[1;33m)\u001b[0m\u001b[1;33m\u001b[0m\u001b[1;33m\u001b[0m\u001b[0m\n\u001b[0m\u001b[0;32m     11\u001b[0m     \u001b[0ms\u001b[0m \u001b[1;33m=\u001b[0m \u001b[0mBeautifulSoup\u001b[0m\u001b[1;33m(\u001b[0m\u001b[0mr\u001b[0m\u001b[1;33m.\u001b[0m\u001b[0mtext\u001b[0m\u001b[1;33m)\u001b[0m  \u001b[1;31m# this is the HTML contents of the returned request\u001b[0m\u001b[1;33m\u001b[0m\u001b[1;33m\u001b[0m\u001b[0m\n\u001b[0;32m     12\u001b[0m     \u001b[0mps\u001b[0m \u001b[1;33m=\u001b[0m \u001b[0ms\u001b[0m\u001b[1;33m.\u001b[0m\u001b[0mfindAll\u001b[0m\u001b[1;33m(\u001b[0m\u001b[1;34m\"p\"\u001b[0m\u001b[1;33m)\u001b[0m  \u001b[1;31m# this is a list of all paragraph elements of the html\u001b[0m\u001b[1;33m\u001b[0m\u001b[1;33m\u001b[0m\u001b[0m\n",
      "\u001b[1;32m~\\Anaconda3\\envs\\scipybase_Jun2021\\lib\\site-packages\\requests\\api.py\u001b[0m in \u001b[0;36mget\u001b[1;34m(url, params, **kwargs)\u001b[0m\n\u001b[0;32m     74\u001b[0m \u001b[1;33m\u001b[0m\u001b[0m\n\u001b[0;32m     75\u001b[0m     \u001b[0mkwargs\u001b[0m\u001b[1;33m.\u001b[0m\u001b[0msetdefault\u001b[0m\u001b[1;33m(\u001b[0m\u001b[1;34m'allow_redirects'\u001b[0m\u001b[1;33m,\u001b[0m \u001b[1;32mTrue\u001b[0m\u001b[1;33m)\u001b[0m\u001b[1;33m\u001b[0m\u001b[1;33m\u001b[0m\u001b[0m\n\u001b[1;32m---> 76\u001b[1;33m     \u001b[1;32mreturn\u001b[0m \u001b[0mrequest\u001b[0m\u001b[1;33m(\u001b[0m\u001b[1;34m'get'\u001b[0m\u001b[1;33m,\u001b[0m \u001b[0murl\u001b[0m\u001b[1;33m,\u001b[0m \u001b[0mparams\u001b[0m\u001b[1;33m=\u001b[0m\u001b[0mparams\u001b[0m\u001b[1;33m,\u001b[0m \u001b[1;33m**\u001b[0m\u001b[0mkwargs\u001b[0m\u001b[1;33m)\u001b[0m\u001b[1;33m\u001b[0m\u001b[1;33m\u001b[0m\u001b[0m\n\u001b[0m\u001b[0;32m     77\u001b[0m \u001b[1;33m\u001b[0m\u001b[0m\n\u001b[0;32m     78\u001b[0m \u001b[1;33m\u001b[0m\u001b[0m\n",
      "\u001b[1;32m~\\Anaconda3\\envs\\scipybase_Jun2021\\lib\\site-packages\\requests\\api.py\u001b[0m in \u001b[0;36mrequest\u001b[1;34m(method, url, **kwargs)\u001b[0m\n\u001b[0;32m     59\u001b[0m     \u001b[1;31m# cases, and look like a memory leak in others.\u001b[0m\u001b[1;33m\u001b[0m\u001b[1;33m\u001b[0m\u001b[1;33m\u001b[0m\u001b[0m\n\u001b[0;32m     60\u001b[0m     \u001b[1;32mwith\u001b[0m \u001b[0msessions\u001b[0m\u001b[1;33m.\u001b[0m\u001b[0mSession\u001b[0m\u001b[1;33m(\u001b[0m\u001b[1;33m)\u001b[0m \u001b[1;32mas\u001b[0m \u001b[0msession\u001b[0m\u001b[1;33m:\u001b[0m\u001b[1;33m\u001b[0m\u001b[1;33m\u001b[0m\u001b[0m\n\u001b[1;32m---> 61\u001b[1;33m         \u001b[1;32mreturn\u001b[0m \u001b[0msession\u001b[0m\u001b[1;33m.\u001b[0m\u001b[0mrequest\u001b[0m\u001b[1;33m(\u001b[0m\u001b[0mmethod\u001b[0m\u001b[1;33m=\u001b[0m\u001b[0mmethod\u001b[0m\u001b[1;33m,\u001b[0m \u001b[0murl\u001b[0m\u001b[1;33m=\u001b[0m\u001b[0murl\u001b[0m\u001b[1;33m,\u001b[0m \u001b[1;33m**\u001b[0m\u001b[0mkwargs\u001b[0m\u001b[1;33m)\u001b[0m\u001b[1;33m\u001b[0m\u001b[1;33m\u001b[0m\u001b[0m\n\u001b[0m\u001b[0;32m     62\u001b[0m \u001b[1;33m\u001b[0m\u001b[0m\n\u001b[0;32m     63\u001b[0m \u001b[1;33m\u001b[0m\u001b[0m\n",
      "\u001b[1;32m~\\Anaconda3\\envs\\scipybase_Jun2021\\lib\\site-packages\\requests\\sessions.py\u001b[0m in \u001b[0;36mrequest\u001b[1;34m(self, method, url, params, data, headers, cookies, files, auth, timeout, allow_redirects, proxies, hooks, stream, verify, cert, json)\u001b[0m\n\u001b[0;32m    540\u001b[0m         }\n\u001b[0;32m    541\u001b[0m         \u001b[0msend_kwargs\u001b[0m\u001b[1;33m.\u001b[0m\u001b[0mupdate\u001b[0m\u001b[1;33m(\u001b[0m\u001b[0msettings\u001b[0m\u001b[1;33m)\u001b[0m\u001b[1;33m\u001b[0m\u001b[1;33m\u001b[0m\u001b[0m\n\u001b[1;32m--> 542\u001b[1;33m         \u001b[0mresp\u001b[0m \u001b[1;33m=\u001b[0m \u001b[0mself\u001b[0m\u001b[1;33m.\u001b[0m\u001b[0msend\u001b[0m\u001b[1;33m(\u001b[0m\u001b[0mprep\u001b[0m\u001b[1;33m,\u001b[0m \u001b[1;33m**\u001b[0m\u001b[0msend_kwargs\u001b[0m\u001b[1;33m)\u001b[0m\u001b[1;33m\u001b[0m\u001b[1;33m\u001b[0m\u001b[0m\n\u001b[0m\u001b[0;32m    543\u001b[0m \u001b[1;33m\u001b[0m\u001b[0m\n\u001b[0;32m    544\u001b[0m         \u001b[1;32mreturn\u001b[0m \u001b[0mresp\u001b[0m\u001b[1;33m\u001b[0m\u001b[1;33m\u001b[0m\u001b[0m\n",
      "\u001b[1;32m~\\Anaconda3\\envs\\scipybase_Jun2021\\lib\\site-packages\\requests\\sessions.py\u001b[0m in \u001b[0;36msend\u001b[1;34m(self, request, **kwargs)\u001b[0m\n\u001b[0;32m    675\u001b[0m             \u001b[1;31m# Redirect resolving generator.\u001b[0m\u001b[1;33m\u001b[0m\u001b[1;33m\u001b[0m\u001b[1;33m\u001b[0m\u001b[0m\n\u001b[0;32m    676\u001b[0m             \u001b[0mgen\u001b[0m \u001b[1;33m=\u001b[0m \u001b[0mself\u001b[0m\u001b[1;33m.\u001b[0m\u001b[0mresolve_redirects\u001b[0m\u001b[1;33m(\u001b[0m\u001b[0mr\u001b[0m\u001b[1;33m,\u001b[0m \u001b[0mrequest\u001b[0m\u001b[1;33m,\u001b[0m \u001b[1;33m**\u001b[0m\u001b[0mkwargs\u001b[0m\u001b[1;33m)\u001b[0m\u001b[1;33m\u001b[0m\u001b[1;33m\u001b[0m\u001b[0m\n\u001b[1;32m--> 677\u001b[1;33m             \u001b[0mhistory\u001b[0m \u001b[1;33m=\u001b[0m \u001b[1;33m[\u001b[0m\u001b[0mresp\u001b[0m \u001b[1;32mfor\u001b[0m \u001b[0mresp\u001b[0m \u001b[1;32min\u001b[0m \u001b[0mgen\u001b[0m\u001b[1;33m]\u001b[0m\u001b[1;33m\u001b[0m\u001b[1;33m\u001b[0m\u001b[0m\n\u001b[0m\u001b[0;32m    678\u001b[0m         \u001b[1;32melse\u001b[0m\u001b[1;33m:\u001b[0m\u001b[1;33m\u001b[0m\u001b[1;33m\u001b[0m\u001b[0m\n\u001b[0;32m    679\u001b[0m             \u001b[0mhistory\u001b[0m \u001b[1;33m=\u001b[0m \u001b[1;33m[\u001b[0m\u001b[1;33m]\u001b[0m\u001b[1;33m\u001b[0m\u001b[1;33m\u001b[0m\u001b[0m\n",
      "\u001b[1;32m~\\Anaconda3\\envs\\scipybase_Jun2021\\lib\\site-packages\\requests\\sessions.py\u001b[0m in \u001b[0;36m<listcomp>\u001b[1;34m(.0)\u001b[0m\n\u001b[0;32m    675\u001b[0m             \u001b[1;31m# Redirect resolving generator.\u001b[0m\u001b[1;33m\u001b[0m\u001b[1;33m\u001b[0m\u001b[1;33m\u001b[0m\u001b[0m\n\u001b[0;32m    676\u001b[0m             \u001b[0mgen\u001b[0m \u001b[1;33m=\u001b[0m \u001b[0mself\u001b[0m\u001b[1;33m.\u001b[0m\u001b[0mresolve_redirects\u001b[0m\u001b[1;33m(\u001b[0m\u001b[0mr\u001b[0m\u001b[1;33m,\u001b[0m \u001b[0mrequest\u001b[0m\u001b[1;33m,\u001b[0m \u001b[1;33m**\u001b[0m\u001b[0mkwargs\u001b[0m\u001b[1;33m)\u001b[0m\u001b[1;33m\u001b[0m\u001b[1;33m\u001b[0m\u001b[0m\n\u001b[1;32m--> 677\u001b[1;33m             \u001b[0mhistory\u001b[0m \u001b[1;33m=\u001b[0m \u001b[1;33m[\u001b[0m\u001b[0mresp\u001b[0m \u001b[1;32mfor\u001b[0m \u001b[0mresp\u001b[0m \u001b[1;32min\u001b[0m \u001b[0mgen\u001b[0m\u001b[1;33m]\u001b[0m\u001b[1;33m\u001b[0m\u001b[1;33m\u001b[0m\u001b[0m\n\u001b[0m\u001b[0;32m    678\u001b[0m         \u001b[1;32melse\u001b[0m\u001b[1;33m:\u001b[0m\u001b[1;33m\u001b[0m\u001b[1;33m\u001b[0m\u001b[0m\n\u001b[0;32m    679\u001b[0m             \u001b[0mhistory\u001b[0m \u001b[1;33m=\u001b[0m \u001b[1;33m[\u001b[0m\u001b[1;33m]\u001b[0m\u001b[1;33m\u001b[0m\u001b[1;33m\u001b[0m\u001b[0m\n",
      "\u001b[1;32m~\\Anaconda3\\envs\\scipybase_Jun2021\\lib\\site-packages\\requests\\sessions.py\u001b[0m in \u001b[0;36mresolve_redirects\u001b[1;34m(self, resp, req, stream, timeout, verify, cert, proxies, yield_requests, **adapter_kwargs)\u001b[0m\n\u001b[0;32m    235\u001b[0m             \u001b[1;32melse\u001b[0m\u001b[1;33m:\u001b[0m\u001b[1;33m\u001b[0m\u001b[1;33m\u001b[0m\u001b[0m\n\u001b[0;32m    236\u001b[0m \u001b[1;33m\u001b[0m\u001b[0m\n\u001b[1;32m--> 237\u001b[1;33m                 resp = self.send(\n\u001b[0m\u001b[0;32m    238\u001b[0m                     \u001b[0mreq\u001b[0m\u001b[1;33m,\u001b[0m\u001b[1;33m\u001b[0m\u001b[1;33m\u001b[0m\u001b[0m\n\u001b[0;32m    239\u001b[0m                     \u001b[0mstream\u001b[0m\u001b[1;33m=\u001b[0m\u001b[0mstream\u001b[0m\u001b[1;33m,\u001b[0m\u001b[1;33m\u001b[0m\u001b[1;33m\u001b[0m\u001b[0m\n",
      "\u001b[1;32m~\\Anaconda3\\envs\\scipybase_Jun2021\\lib\\site-packages\\requests\\sessions.py\u001b[0m in \u001b[0;36msend\u001b[1;34m(self, request, **kwargs)\u001b[0m\n\u001b[0;32m    653\u001b[0m \u001b[1;33m\u001b[0m\u001b[0m\n\u001b[0;32m    654\u001b[0m         \u001b[1;31m# Send the request\u001b[0m\u001b[1;33m\u001b[0m\u001b[1;33m\u001b[0m\u001b[1;33m\u001b[0m\u001b[0m\n\u001b[1;32m--> 655\u001b[1;33m         \u001b[0mr\u001b[0m \u001b[1;33m=\u001b[0m \u001b[0madapter\u001b[0m\u001b[1;33m.\u001b[0m\u001b[0msend\u001b[0m\u001b[1;33m(\u001b[0m\u001b[0mrequest\u001b[0m\u001b[1;33m,\u001b[0m \u001b[1;33m**\u001b[0m\u001b[0mkwargs\u001b[0m\u001b[1;33m)\u001b[0m\u001b[1;33m\u001b[0m\u001b[1;33m\u001b[0m\u001b[0m\n\u001b[0m\u001b[0;32m    656\u001b[0m \u001b[1;33m\u001b[0m\u001b[0m\n\u001b[0;32m    657\u001b[0m         \u001b[1;31m# Total elapsed time of the request (approximately)\u001b[0m\u001b[1;33m\u001b[0m\u001b[1;33m\u001b[0m\u001b[1;33m\u001b[0m\u001b[0m\n",
      "\u001b[1;32m~\\Anaconda3\\envs\\scipybase_Jun2021\\lib\\site-packages\\requests\\adapters.py\u001b[0m in \u001b[0;36msend\u001b[1;34m(self, request, stream, timeout, verify, cert, proxies)\u001b[0m\n\u001b[0;32m    512\u001b[0m             \u001b[1;32mif\u001b[0m \u001b[0misinstance\u001b[0m\u001b[1;33m(\u001b[0m\u001b[0me\u001b[0m\u001b[1;33m.\u001b[0m\u001b[0mreason\u001b[0m\u001b[1;33m,\u001b[0m \u001b[0m_SSLError\u001b[0m\u001b[1;33m)\u001b[0m\u001b[1;33m:\u001b[0m\u001b[1;33m\u001b[0m\u001b[1;33m\u001b[0m\u001b[0m\n\u001b[0;32m    513\u001b[0m                 \u001b[1;31m# This branch is for urllib3 v1.22 and later.\u001b[0m\u001b[1;33m\u001b[0m\u001b[1;33m\u001b[0m\u001b[1;33m\u001b[0m\u001b[0m\n\u001b[1;32m--> 514\u001b[1;33m                 \u001b[1;32mraise\u001b[0m \u001b[0mSSLError\u001b[0m\u001b[1;33m(\u001b[0m\u001b[0me\u001b[0m\u001b[1;33m,\u001b[0m \u001b[0mrequest\u001b[0m\u001b[1;33m=\u001b[0m\u001b[0mrequest\u001b[0m\u001b[1;33m)\u001b[0m\u001b[1;33m\u001b[0m\u001b[1;33m\u001b[0m\u001b[0m\n\u001b[0m\u001b[0;32m    515\u001b[0m \u001b[1;33m\u001b[0m\u001b[0m\n\u001b[0;32m    516\u001b[0m             \u001b[1;32mraise\u001b[0m \u001b[0mConnectionError\u001b[0m\u001b[1;33m(\u001b[0m\u001b[0me\u001b[0m\u001b[1;33m,\u001b[0m \u001b[0mrequest\u001b[0m\u001b[1;33m=\u001b[0m\u001b[0mrequest\u001b[0m\u001b[1;33m)\u001b[0m\u001b[1;33m\u001b[0m\u001b[1;33m\u001b[0m\u001b[0m\n",
      "\u001b[1;31mSSLError\u001b[0m: HTTPSConnectionPool(host='avalon.law.yale.edu', port=443): Max retries exceeded with url: /18th_century/fed01.asp (Caused by SSLError(\"Can't connect to HTTPS URL because the SSL module is not available.\"))"
     ]
    }
   ],
   "source": [
    "# Retrieve the contents of all the federalist papers from the law school website and save to our data folder\n",
    "for i in range(num_papers):\n",
    "    print(i+1)\n",
    "    if i < 9:\n",
    "        ID = \"0\" + str(i+1)\n",
    "    else:\n",
    "        ID = str(i+1)\n",
    "        \n",
    "    # Request HTML of the page for the i^th paper\n",
    "    r = requests.get(\"http://avalon.law.yale.edu/18th_century/fed%s.asp\" % ID, verify=False)\n",
    "    s = BeautifulSoup(r.text)  # this is the HTML contents of the returned request\n",
    "    ps = s.findAll(\"p\")  # this is a list of all paragraph elements of the html\n",
    "    \n",
    "    # Save the actual text of the paper as a plain text file\n",
    "    filename = datapath / (ID + \".txt\")\n",
    "    with open(filename, \"w\") as f:\n",
    "        for p in ps:\n",
    "            t = p.text\n",
    "            t = t.replace(\" Return to the Text\", \"\")\n",
    "            t = t.replace(\"Ã\\x95\", \"\")\n",
    "            f.write(t + \"\\n\")\n",
    "    time.sleep(30)"
   ]
  },
  {
   "cell_type": "code",
   "execution_count": 8,
   "metadata": {
    "collapsed": false,
    "deletable": true,
    "editable": true
   },
   "outputs": [],
   "source": [
    "author = []\n",
    "r = requests.get(\"https://www.congress.gov/resources/display/content/The+Federalist+Papers\")\n",
    "s = BeautifulSoup(r.text)\n",
    "table = s.find(\"table\", {\"class\": \"confluenceTable\"})\n",
    "rows = table.findAll(\"tr\")\n",
    "for row in rows[1:]:\n",
    "    author.append(row.findAll(\"td\")[2].text)"
   ]
  },
  {
   "cell_type": "code",
   "execution_count": null,
   "metadata": {
    "collapsed": true,
    "deletable": true,
    "editable": true
   },
   "outputs": [],
   "source": [
    "### Part 2 - Mimicking the three Federalist authors ###\n",
    "\n",
    "\n",
    "import nltk\n",
    "import numpy\n",
    "\n",
    "nltk.download('punkt')\n",
    "\n",
    "def draw_word(distrn):\n",
    "    words = list(distrn)\n",
    "    freqs = [freq for w, freq in distrn.items()]\n",
    "    total = sum(freqs)\n",
    "    probs = [freq/total for freq in freqs]\n",
    "    return numpy.random.choice(words, p=probs)\n",
    "\n",
    "def generate_with_trigrams(text, word=None, num=100):\n",
    "    tokens = nltk.tokenize.word_tokenize(text)\n",
    "    trigrams = nltk.trigrams(tokens)\n",
    "    condition_pairs = (((w0, w1), w2) for w0, w1, w2 in trigrams)\n",
    "    cfdist = nltk.ConditionalFreqDist(condition_pairs)\n",
    "    if word is None:\n",
    "        prev = draw_word(nltk.FreqDist(tokens))\n",
    "        word = draw_word(nltk.ConditionalFreqDist(nltk.bigrams(tokens))[prev])\n",
    "    elif len(word.split()) == 1:\n",
    "        prev = word\n",
    "        word = draw_word(nltk.ConditionalFreqDist(nltk.bigrams(tokens))[prev])\n",
    "        # will give an error if this pair doesn't show up in the text\n",
    "    else:\n",
    "        prev, word = word.split()[:2]\n",
    "    print(prev, end=' ')\n",
    "    for i in range(1, num):\n",
    "        print(word, end=' ')\n",
    "        prev, word = word, draw_word(cfdist[(prev, word)])\n",
    "\n",
    "\n",
    "# each author will have all his papers merged\n",
    "hamilton = \"\"\n",
    "madison = \"\"\n",
    "jay = \"\"\n",
    "\n",
    "docnames = [f for f in os.listdir() if f[-4:]==\".txt\"]\n",
    "docnames.sort()\n",
    "\n",
    "N = len(docnames)\n",
    "for i in range(N):\n",
    "    with open(docnames[i], 'r') as f:\n",
    "        if author[i] == \"Hamilton\":\n",
    "            hamilton += f.read() + \" \"\n",
    "        elif author[i] == \"Madison\":\n",
    "            madison += f.read() + \" \"\n",
    "        elif author[i] == \"Jay\":\n",
    "            jay += f.read() + \" \"\n",
    "\n",
    "len(hamilton)\n",
    "len(madison)\n",
    "len(jay)\n",
    "\n",
    "\n",
    "generate_with_trigrams(hamilton, \"The\")\n",
    "generate_with_trigrams(madison, \"The\")\n",
    "generate_with_trigrams(jay, \"The\")"
   ]
  },
  {
   "cell_type": "code",
   "execution_count": null,
   "metadata": {
    "collapsed": true,
    "deletable": true,
    "editable": true
   },
   "outputs": [],
   "source": [
    "### Part 3 - Creating data frame of token frequencies ###\n",
    "\n",
    "import pandas as pd\n",
    "import re\n",
    "\n",
    "N = len(docnames)\n",
    "tables = [None]*N\n",
    "for i in range(N):\n",
    "    with open(docnames[i], 'r') as f:\n",
    "        doc = f.read()\n",
    "        doc = doc.replace(\"To the People of the State of New York:\", \"\")\n",
    "        doc = doc.replace(\"PUBLIUS\", \"\")\n",
    "        doc = doc.replace(\"Ã¥\", \"\")\n",
    "        doc = re.sub(\"[0-9]+\", \"\", doc)\n",
    "        doc = doc.lower()\n",
    "        tokens = nltk.tokenize.word_tokenize(doc)\n",
    "        tables[i] = nltk.FreqDist(tokens)\n",
    "\n",
    "df = pd.DataFrame(tables)\n",
    "\n",
    "# fill in zeros\n",
    "df.fillna(0, inplace=True)\n",
    "\n",
    "# divide rows by totals\n",
    "for i in range(N):\n",
    "    s = sum(df.iloc[i])\n",
    "    df.iloc[i] = [n/s for n in df.iloc[i]]\n",
    "\n",
    "df.iloc[0] # check a row to make sure it worked\n",
    "\n",
    "# write as csv\n",
    "df.to_csv(\"../federalist.csv\")\n",
    "\n",
    "\n",
    "\n",
    "\n",
    "\n",
    "\n",
    "\n",
    "\n",
    "\n",
    "\n",
    "\n",
    "\n",
    "# write authors as well\n",
    "with open(\"../authors.csv\", \"w\") as f:\n",
    "    f.write(\"author\\n\")\n",
    "    for a in author:\n",
    "        f.write(a + \"\\n\")\n",
    "\n",
    "# and write tokens\n",
    "with open(\"../tokens.csv\", \"w\") as f:\n",
    "    f.write(\"token\\n\")\n",
    "    for t in list(df):\n",
    "        f.write('\"' + t + '\"\\n')"
   ]
  }
 ],
 "metadata": {
  "kernelspec": {
   "display_name": "Python [conda env:scipybase_Jun2021]",
   "language": "python",
   "name": "conda-env-scipybase_Jun2021-py"
  },
  "language_info": {
   "codemirror_mode": {
    "name": "ipython",
    "version": 3
   },
   "file_extension": ".py",
   "mimetype": "text/x-python",
   "name": "python",
   "nbconvert_exporter": "python",
   "pygments_lexer": "ipython3",
   "version": "3.8.10"
  },
  "toc": {
   "colors": {
    "hover_highlight": "#DAA520",
    "running_highlight": "#FF0000",
    "selected_highlight": "#FFD700"
   },
   "moveMenuLeft": true,
   "nav_menu": {
    "height": "12px",
    "width": "252px"
   },
   "navigate_menu": true,
   "number_sections": true,
   "sideBar": true,
   "threshold": 4,
   "toc_cell": true,
   "toc_section_display": "block",
   "toc_window_display": true
  }
 },
 "nbformat": 4,
 "nbformat_minor": 2
}
