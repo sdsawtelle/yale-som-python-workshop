{
 "cells": [
  {
   "cell_type": "markdown",
   "metadata": {
    "deletable": true,
    "editable": true,
    "toc": "true"
   },
   "source": [
    "# Table of Contents\n",
    " <p><div class=\"lev1 toc-item\"><a href=\"#Project-Overview\" data-toc-modified-id=\"Project-Overview-1\"><span class=\"toc-item-num\">1&nbsp;&nbsp;</span>Project Overview</a></div><div class=\"lev1 toc-item\"><a href=\"#Part-1---Scraping-The-Federalist-Papers\" data-toc-modified-id=\"Part-1---Scraping-The-Federalist-Papers-2\"><span class=\"toc-item-num\">2&nbsp;&nbsp;</span>Part 1 - Scraping The Federalist Papers</a></div><div class=\"lev1 toc-item\"><a href=\"#Part-2---Read-in-the-Data\" data-toc-modified-id=\"Part-2---Read-in-the-Data-3\"><span class=\"toc-item-num\">3&nbsp;&nbsp;</span>Part 2 - Read in the Data</a></div><div class=\"lev1 toc-item\"><a href=\"#Part-3---Creating-data-frame-of-token-frequencies\" data-toc-modified-id=\"Part-3---Creating-data-frame-of-token-frequencies-4\"><span class=\"toc-item-num\">4&nbsp;&nbsp;</span>Part 3 - Creating data frame of token frequencies</a></div><div class=\"lev1 toc-item\"><a href=\"#Dimensionality-Reduction-with-PCA-and-LDA\" data-toc-modified-id=\"Dimensionality-Reduction-with-PCA-and-LDA-5\"><span class=\"toc-item-num\">5&nbsp;&nbsp;</span>Dimensionality Reduction with PCA and LDA</a></div><div class=\"lev2 toc-item\"><a href=\"#PCA-Example\" data-toc-modified-id=\"PCA-Example-51\"><span class=\"toc-item-num\">5.1&nbsp;&nbsp;</span>PCA Example</a></div><div class=\"lev2 toc-item\"><a href=\"#PCA-+-LDA-Pipeline\" data-toc-modified-id=\"PCA-+-LDA-Pipeline-52\"><span class=\"toc-item-num\">5.2&nbsp;&nbsp;</span>PCA + LDA Pipeline</a></div><div class=\"lev1 toc-item\"><a href=\"#Tune-PCA-Components\" data-toc-modified-id=\"Tune-PCA-Components-6\"><span class=\"toc-item-num\">6&nbsp;&nbsp;</span>Tune PCA Components</a></div>"
   ]
  },
  {
   "cell_type": "markdown",
   "metadata": {
    "deletable": true,
    "editable": true
   },
   "source": [
    "# Project Overview\n",
    "\n",
    "lorem ipsum dolor"
   ]
  },
  {
   "cell_type": "markdown",
   "metadata": {
    "deletable": true,
    "editable": true
   },
   "source": [
    "# Part 1 - Scraping The Federalist Papers ###"
   ]
  },
  {
   "cell_type": "markdown",
   "metadata": {
    "deletable": true,
    "editable": true
   },
   "source": [
    "This section pulls the federalist papers from a website to give an example of using the jupyter `%run` magic command - **you don't need to execute these cells if you have already scraped the federalist papers.**"
   ]
  },
  {
   "cell_type": "markdown",
   "metadata": {
    "deletable": true,
    "editable": true
   },
   "source": [
    "First we want to retrieve the contents of all the federalist papers from the law school website. We can do this using the `requests` package to retrieve the HTML for each paper's web page, then use the `bs4` package to parse that HTML, and finally save the actual text contents of each paper to our data folder. We have a stand-alone python script at `scripts/scrape_federalist_papers.py` which does this; **as an exercise you can try writing such a script yourself.**"
   ]
  },
  {
   "cell_type": "markdown",
   "metadata": {
    "deletable": true,
    "editable": true
   },
   "source": [
    "Jupyter provides the **`%run` magic command** for executing code in external python scripts, where all the script variables become available within your notebook namespace. We'll run our scraping script now, which will write the federalist papers as individual text files in the `data/federalist_papers` folder. "
   ]
  },
  {
   "cell_type": "code",
   "execution_count": 16,
   "metadata": {
    "collapsed": false,
    "deletable": true,
    "editable": true
   },
   "outputs": [],
   "source": [
    "%run ../scripts/scrape_federalist_papers.py"
   ]
  },
  {
   "cell_type": "code",
   "execution_count": null,
   "metadata": {
    "collapsed": true,
    "deletable": true,
    "editable": true
   },
   "outputs": [],
   "source": [
    "# A list variable called `authors` that stores the paper authors is created in the external script. \n",
    "# After using the `%run` magic we now have this list variable available in our notebook as well:\n",
    "authors"
   ]
  },
  {
   "cell_type": "markdown",
   "metadata": {
    "deletable": true,
    "editable": true
   },
   "source": [
    "# Part 2 - Read in the Data"
   ]
  },
  {
   "cell_type": "code",
   "execution_count": 2,
   "metadata": {
    "collapsed": false,
    "deletable": true,
    "editable": true
   },
   "outputs": [],
   "source": [
    "from pathlib import Path  # This is a useful class for constructing file system paths\n",
    "import os\n",
    "import pandas as pd\n",
    "import re\n",
    "import nltk\n",
    "import numpy"
   ]
  },
  {
   "cell_type": "code",
   "execution_count": 3,
   "metadata": {
    "collapsed": false,
    "deletable": true,
    "editable": true
   },
   "outputs": [],
   "source": [
    "# Set the data folder where the papers are saved (papers are identified by integers)\n",
    "datapath = Path(r\"../data/federalist_papers\")"
   ]
  },
  {
   "cell_type": "code",
   "execution_count": 4,
   "metadata": {
    "collapsed": false,
    "deletable": true,
    "editable": true
   },
   "outputs": [
    {
     "data": {
      "text/plain": [
       "['Hamilton', 'Jay', 'Jay']"
      ]
     },
     "execution_count": 4,
     "metadata": {},
     "output_type": "execute_result"
    }
   ],
   "source": [
    "# Read in the list of authors we scraped from the table on the website\n",
    "authors = pd.read_csv(datapath / \"authors.csv\", \n",
    "                          squeeze=True,  # squeeze will read in as a Series rather than Dataframe\n",
    "                          header=None)\n",
    "author_list = authors.tolist()\n",
    "author_list[:3]"
   ]
  },
  {
   "cell_type": "code",
   "execution_count": 5,
   "metadata": {
    "collapsed": false,
    "deletable": true,
    "editable": true
   },
   "outputs": [
    {
     "data": {
      "text/plain": [
       "[WindowsPath('../data/federalist_papers/01.txt'),\n",
       " WindowsPath('../data/federalist_papers/02.txt'),\n",
       " WindowsPath('../data/federalist_papers/03.txt')]"
      ]
     },
     "execution_count": 5,
     "metadata": {},
     "output_type": "execute_result"
    }
   ],
   "source": [
    "# Get a list of all the paper filepaths\n",
    "docnames = [datapath / f for f in os.listdir(datapath) if f[-4:]==\".txt\"]\n",
    "docnames.sort()  # sort the list IN PLACE alphabetically (i.e. numerically in this case)\n",
    "docnames[:3]"
   ]
  },
  {
   "cell_type": "code",
   "execution_count": 6,
   "metadata": {
    "collapsed": false,
    "deletable": true,
    "editable": true
   },
   "outputs": [],
   "source": [
    "# Each author will have all his papers merged into a single string\n",
    "hamilton = \"\"\n",
    "madison = \"\"\n",
    "jay = \"\"\n",
    "\n",
    "N = len(docnames)\n",
    "for i in range(N):\n",
    "    with open(docnames[i], 'r') as f:\n",
    "        if author_list[i] == \"Hamilton\":\n",
    "            hamilton += f.read() + \" \"\n",
    "        elif author_list[i] == \"Madison\":\n",
    "            madison += f.read() + \" \"\n",
    "        elif author_list[i] == \"Jay\":\n",
    "            jay += f.read() + \" \"\n",
    "        else:\n",
    "            # discard papers with mixed authorship e.g. \"Hamilton and Madison\"\n",
    "            pass"
   ]
  },
  {
   "cell_type": "code",
   "execution_count": 7,
   "metadata": {
    "collapsed": false,
    "deletable": true,
    "editable": true
   },
   "outputs": [
    {
     "data": {
      "text/plain": [
       "(687062, 232117, 50516)"
      ]
     },
     "execution_count": 7,
     "metadata": {},
     "output_type": "execute_result"
    }
   ],
   "source": [
    "len(hamilton), len(madison), len(jay)"
   ]
  },
  {
   "cell_type": "code",
   "execution_count": 8,
   "metadata": {
    "collapsed": false,
    "deletable": true,
    "editable": true
   },
   "outputs": [
    {
     "data": {
      "text/plain": [
       "'To the People of the State of New York:  \\nAFTER an unequivoc'"
      ]
     },
     "execution_count": 8,
     "metadata": {},
     "output_type": "execute_result"
    }
   ],
   "source": [
    "hamilton[:60]"
   ]
  },
  {
   "cell_type": "markdown",
   "metadata": {
    "deletable": true,
    "editable": true
   },
   "source": [
    "# Part 3 - Creating data frame of token frequencies ###"
   ]
  },
  {
   "cell_type": "code",
   "execution_count": 9,
   "metadata": {
    "collapsed": true,
    "deletable": true,
    "editable": true
   },
   "outputs": [],
   "source": [
    "import nltk"
   ]
  },
  {
   "cell_type": "code",
   "execution_count": 10,
   "metadata": {
    "collapsed": false,
    "deletable": true,
    "editable": true
   },
   "outputs": [
    {
     "name": "stderr",
     "output_type": "stream",
     "text": [
      "[nltk_data] Downloading package punkt to\n",
      "[nltk_data]     C:\\Users\\Sonya\\AppData\\Roaming\\nltk_data...\n",
      "[nltk_data]   Package punkt is already up-to-date!\n"
     ]
    }
   ],
   "source": [
    "nltk.download('punkt')  # download a pre-trained tokenizer that nltk will use for tokenizng the doc text\n",
    "\n",
    "# Tokenize each document (split it into words) and represent each doc as a word frequency vector\n",
    "N = len(docnames)\n",
    "tables = [None]*N\n",
    "for i in range(N):\n",
    "    with open(docnames[i], 'r') as f:\n",
    "        doc = f.read()\n",
    "        doc = doc.replace(\"To the People of the State of New York:\", \"\")\n",
    "        doc = doc.replace(\"PUBLIUS\", \"\")\n",
    "        doc = doc.replace(\"Ã¥\", \"\")\n",
    "        doc = re.sub(\"[0-9]+\", \"\", doc)\n",
    "        doc = doc.lower()\n",
    "        tokens = nltk.tokenize.word_tokenize(doc)  # tokenize the doc into a list of words\n",
    "        tables[i] = nltk.FreqDist(tokens)  # vectorize the list of words into a vector of word frequencies"
   ]
  },
  {
   "cell_type": "code",
   "execution_count": 11,
   "metadata": {
    "collapsed": false,
    "deletable": true,
    "editable": true
   },
   "outputs": [
    {
     "data": {
      "text/plain": [
       "[FreqDist({'the': 131, ',': 105, 'of': 104, 'to': 71, '.': 49, 'and': 40, 'be': 34, 'that': 28, 'in': 27, 'a': 25, ...}),\n",
       " FreqDist({',': 122, 'the': 105, 'and': 83, 'of': 81, 'to': 52, 'that': 44, '.': 41, 'it': 38, 'in': 34, 'a': 30, ...}),\n",
       " FreqDist({',': 121, 'the': 91, 'and': 61, 'of': 60, 'to': 55, '.': 37, 'or': 32, 'be': 31, 'in': 25, 'as': 24, ...})]"
      ]
     },
     "execution_count": 11,
     "metadata": {},
     "output_type": "execute_result"
    }
   ],
   "source": [
    "# We now have a list where each element is a word count vector for a single document\n",
    "tables[:3]"
   ]
  },
  {
   "cell_type": "code",
   "execution_count": 12,
   "metadata": {
    "collapsed": false,
    "deletable": true,
    "editable": true
   },
   "outputs": [
    {
     "data": {
      "text/html": [
       "<div>\n",
       "<style scoped>\n",
       "    .dataframe tbody tr th:only-of-type {\n",
       "        vertical-align: middle;\n",
       "    }\n",
       "\n",
       "    .dataframe tbody tr th {\n",
       "        vertical-align: top;\n",
       "    }\n",
       "\n",
       "    .dataframe thead th {\n",
       "        text-align: right;\n",
       "    }\n",
       "</style>\n",
       "<table border=\"1\" class=\"dataframe\">\n",
       "  <thead>\n",
       "    <tr style=\"text-align: right;\">\n",
       "      <th></th>\n",
       "      <th>!</th>\n",
       "      <th>&amp;</th>\n",
       "      <th>'</th>\n",
       "      <th>''</th>\n",
       "      <th>''as</th>\n",
       "      <th>''but</th>\n",
       "      <th>''few</th>\n",
       "      <th>''from</th>\n",
       "      <th>''in</th>\n",
       "      <th>''such</th>\n",
       "      <th>...</th>\n",
       "      <th>yokes</th>\n",
       "      <th>york</th>\n",
       "      <th>you</th>\n",
       "      <th>young</th>\n",
       "      <th>your</th>\n",
       "      <th>yourselves</th>\n",
       "      <th>zaleucus</th>\n",
       "      <th>zeal</th>\n",
       "      <th>zealand</th>\n",
       "      <th>zealous</th>\n",
       "    </tr>\n",
       "  </thead>\n",
       "  <tbody>\n",
       "    <tr>\n",
       "      <th>0</th>\n",
       "      <td>NaN</td>\n",
       "      <td>NaN</td>\n",
       "      <td>NaN</td>\n",
       "      <td>NaN</td>\n",
       "      <td>NaN</td>\n",
       "      <td>NaN</td>\n",
       "      <td>NaN</td>\n",
       "      <td>NaN</td>\n",
       "      <td>NaN</td>\n",
       "      <td>NaN</td>\n",
       "      <td>...</td>\n",
       "      <td>NaN</td>\n",
       "      <td>NaN</td>\n",
       "      <td>7.0</td>\n",
       "      <td>NaN</td>\n",
       "      <td>10.0</td>\n",
       "      <td>NaN</td>\n",
       "      <td>NaN</td>\n",
       "      <td>3.0</td>\n",
       "      <td>NaN</td>\n",
       "      <td>NaN</td>\n",
       "    </tr>\n",
       "    <tr>\n",
       "      <th>1</th>\n",
       "      <td>1.0</td>\n",
       "      <td>NaN</td>\n",
       "      <td>NaN</td>\n",
       "      <td>1.0</td>\n",
       "      <td>NaN</td>\n",
       "      <td>NaN</td>\n",
       "      <td>NaN</td>\n",
       "      <td>NaN</td>\n",
       "      <td>NaN</td>\n",
       "      <td>NaN</td>\n",
       "      <td>...</td>\n",
       "      <td>NaN</td>\n",
       "      <td>NaN</td>\n",
       "      <td>NaN</td>\n",
       "      <td>NaN</td>\n",
       "      <td>NaN</td>\n",
       "      <td>NaN</td>\n",
       "      <td>NaN</td>\n",
       "      <td>NaN</td>\n",
       "      <td>NaN</td>\n",
       "      <td>NaN</td>\n",
       "    </tr>\n",
       "    <tr>\n",
       "      <th>2</th>\n",
       "      <td>NaN</td>\n",
       "      <td>NaN</td>\n",
       "      <td>NaN</td>\n",
       "      <td>NaN</td>\n",
       "      <td>NaN</td>\n",
       "      <td>NaN</td>\n",
       "      <td>NaN</td>\n",
       "      <td>NaN</td>\n",
       "      <td>NaN</td>\n",
       "      <td>NaN</td>\n",
       "      <td>...</td>\n",
       "      <td>NaN</td>\n",
       "      <td>NaN</td>\n",
       "      <td>NaN</td>\n",
       "      <td>NaN</td>\n",
       "      <td>NaN</td>\n",
       "      <td>NaN</td>\n",
       "      <td>NaN</td>\n",
       "      <td>NaN</td>\n",
       "      <td>NaN</td>\n",
       "      <td>NaN</td>\n",
       "    </tr>\n",
       "  </tbody>\n",
       "</table>\n",
       "<p>3 rows × 8747 columns</p>\n",
       "</div>"
      ],
      "text/plain": [
       "     !   &   '   ''  ''as  ''but  ''few  ''from  ''in  ''such  ...  yokes  \\\n",
       "0  NaN NaN NaN  NaN   NaN    NaN    NaN     NaN   NaN     NaN  ...    NaN   \n",
       "1  1.0 NaN NaN  1.0   NaN    NaN    NaN     NaN   NaN     NaN  ...    NaN   \n",
       "2  NaN NaN NaN  NaN   NaN    NaN    NaN     NaN   NaN     NaN  ...    NaN   \n",
       "\n",
       "   york  you  young  your  yourselves  zaleucus  zeal  zealand  zealous  \n",
       "0   NaN  7.0    NaN  10.0         NaN       NaN   3.0      NaN      NaN  \n",
       "1   NaN  NaN    NaN   NaN         NaN       NaN   NaN      NaN      NaN  \n",
       "2   NaN  NaN    NaN   NaN         NaN       NaN   NaN      NaN      NaN  \n",
       "\n",
       "[3 rows x 8747 columns]"
      ]
     },
     "execution_count": 12,
     "metadata": {},
     "output_type": "execute_result"
    }
   ],
   "source": [
    "# Cast the list of word count vectors into a dataframe\n",
    "# Each row is a single document\n",
    "# The columns will be the complete word set across all the docs\n",
    "# (and we will get NaN for any word that was not present in a particular document)\n",
    "df = pd.DataFrame(tables)\n",
    "df.head(3)"
   ]
  },
  {
   "cell_type": "code",
   "execution_count": 13,
   "metadata": {
    "collapsed": false,
    "deletable": true,
    "editable": true
   },
   "outputs": [
    {
     "data": {
      "text/html": [
       "<div>\n",
       "<style scoped>\n",
       "    .dataframe tbody tr th:only-of-type {\n",
       "        vertical-align: middle;\n",
       "    }\n",
       "\n",
       "    .dataframe tbody tr th {\n",
       "        vertical-align: top;\n",
       "    }\n",
       "\n",
       "    .dataframe thead th {\n",
       "        text-align: right;\n",
       "    }\n",
       "</style>\n",
       "<table border=\"1\" class=\"dataframe\">\n",
       "  <thead>\n",
       "    <tr style=\"text-align: right;\">\n",
       "      <th></th>\n",
       "      <th>!</th>\n",
       "      <th>&amp;</th>\n",
       "      <th>'</th>\n",
       "      <th>''</th>\n",
       "      <th>''as</th>\n",
       "      <th>''but</th>\n",
       "      <th>''few</th>\n",
       "      <th>''from</th>\n",
       "      <th>''in</th>\n",
       "      <th>''such</th>\n",
       "      <th>...</th>\n",
       "      <th>yokes</th>\n",
       "      <th>york</th>\n",
       "      <th>you</th>\n",
       "      <th>young</th>\n",
       "      <th>your</th>\n",
       "      <th>yourselves</th>\n",
       "      <th>zaleucus</th>\n",
       "      <th>zeal</th>\n",
       "      <th>zealand</th>\n",
       "      <th>zealous</th>\n",
       "    </tr>\n",
       "  </thead>\n",
       "  <tbody>\n",
       "    <tr>\n",
       "      <th>0</th>\n",
       "      <td>0.000000</td>\n",
       "      <td>0.0</td>\n",
       "      <td>0.0</td>\n",
       "      <td>0.000000</td>\n",
       "      <td>0.0</td>\n",
       "      <td>0.0</td>\n",
       "      <td>0.0</td>\n",
       "      <td>0.0</td>\n",
       "      <td>0.0</td>\n",
       "      <td>0.0</td>\n",
       "      <td>...</td>\n",
       "      <td>0.0</td>\n",
       "      <td>0.0</td>\n",
       "      <td>0.00395</td>\n",
       "      <td>0.0</td>\n",
       "      <td>0.005643</td>\n",
       "      <td>0.0</td>\n",
       "      <td>0.0</td>\n",
       "      <td>0.001693</td>\n",
       "      <td>0.0</td>\n",
       "      <td>0.0</td>\n",
       "    </tr>\n",
       "    <tr>\n",
       "      <th>1</th>\n",
       "      <td>0.000542</td>\n",
       "      <td>0.0</td>\n",
       "      <td>0.0</td>\n",
       "      <td>0.000542</td>\n",
       "      <td>0.0</td>\n",
       "      <td>0.0</td>\n",
       "      <td>0.0</td>\n",
       "      <td>0.0</td>\n",
       "      <td>0.0</td>\n",
       "      <td>0.0</td>\n",
       "      <td>...</td>\n",
       "      <td>0.0</td>\n",
       "      <td>0.0</td>\n",
       "      <td>0.00000</td>\n",
       "      <td>0.0</td>\n",
       "      <td>0.000000</td>\n",
       "      <td>0.0</td>\n",
       "      <td>0.0</td>\n",
       "      <td>0.000000</td>\n",
       "      <td>0.0</td>\n",
       "      <td>0.0</td>\n",
       "    </tr>\n",
       "    <tr>\n",
       "      <th>2</th>\n",
       "      <td>0.000000</td>\n",
       "      <td>0.0</td>\n",
       "      <td>0.0</td>\n",
       "      <td>0.000000</td>\n",
       "      <td>0.0</td>\n",
       "      <td>0.0</td>\n",
       "      <td>0.0</td>\n",
       "      <td>0.0</td>\n",
       "      <td>0.0</td>\n",
       "      <td>0.0</td>\n",
       "      <td>...</td>\n",
       "      <td>0.0</td>\n",
       "      <td>0.0</td>\n",
       "      <td>0.00000</td>\n",
       "      <td>0.0</td>\n",
       "      <td>0.000000</td>\n",
       "      <td>0.0</td>\n",
       "      <td>0.0</td>\n",
       "      <td>0.000000</td>\n",
       "      <td>0.0</td>\n",
       "      <td>0.0</td>\n",
       "    </tr>\n",
       "  </tbody>\n",
       "</table>\n",
       "<p>3 rows × 8747 columns</p>\n",
       "</div>"
      ],
      "text/plain": [
       "          !    &    '        ''  ''as  ''but  ''few  ''from  ''in  ''such  \\\n",
       "0  0.000000  0.0  0.0  0.000000   0.0    0.0    0.0     0.0   0.0     0.0   \n",
       "1  0.000542  0.0  0.0  0.000542   0.0    0.0    0.0     0.0   0.0     0.0   \n",
       "2  0.000000  0.0  0.0  0.000000   0.0    0.0    0.0     0.0   0.0     0.0   \n",
       "\n",
       "   ...  yokes  york      you  young      your  yourselves  zaleucus      zeal  \\\n",
       "0  ...    0.0   0.0  0.00395    0.0  0.005643         0.0       0.0  0.001693   \n",
       "1  ...    0.0   0.0  0.00000    0.0  0.000000         0.0       0.0  0.000000   \n",
       "2  ...    0.0   0.0  0.00000    0.0  0.000000         0.0       0.0  0.000000   \n",
       "\n",
       "   zealand  zealous  \n",
       "0      0.0      0.0  \n",
       "1      0.0      0.0  \n",
       "2      0.0      0.0  \n",
       "\n",
       "[3 rows x 8747 columns]"
      ]
     },
     "execution_count": 13,
     "metadata": {},
     "output_type": "execute_result"
    }
   ],
   "source": [
    "# Fill in zeros for the NaNs\n",
    "df.fillna(0, inplace=True)\n",
    "\n",
    "# Divide rows by totals to normalize the word count within a document into a word frequency\n",
    "for i in range(N):\n",
    "    s = sum(df.iloc[i])\n",
    "    df.iloc[i] = [n/s for n in df.iloc[i]]\n",
    "\n",
    "df.head(3)"
   ]
  },
  {
   "cell_type": "code",
   "execution_count": 14,
   "metadata": {
    "collapsed": true,
    "deletable": true,
    "editable": true
   },
   "outputs": [],
   "source": [
    "# Write as csv\n",
    "df.to_csv(datapath / \"federalist.csv\", index=False)"
   ]
  },
  {
   "cell_type": "code",
   "execution_count": 15,
   "metadata": {
    "collapsed": true,
    "deletable": true,
    "editable": true
   },
   "outputs": [],
   "source": [
    "# Write tokens (words/punctuation)\n",
    "with open(\"../tokens.csv\", \"w\") as f:\n",
    "    f.write(\"token\\n\")\n",
    "    for t in df.columns:\n",
    "        f.write('\"' + t + '\"\\n')"
   ]
  },
  {
   "cell_type": "markdown",
   "metadata": {
    "deletable": true,
    "editable": true
   },
   "source": [
    "# Dimensionality Reduction with PCA and LDA"
   ]
  },
  {
   "cell_type": "markdown",
   "metadata": {
    "deletable": true,
    "editable": true
   },
   "source": [
    "The `sklearn` documentation for the [`PCA`](https://scikit-learn.org/stable/modules/decomposition.html#pca) and [`LinearDiscriminantAnalysis`](https://scikit-learn.org/stable/modules/generated/sklearn.discriminant_analysis.LinearDiscriminantAnalysis.html) classes is helpful for understanding broadly what these two algorithms do. \n",
    "\n",
    "We use PCA to find the directions/vectors in the input data space that spread the data out most effectively - directions along which the data does not have much variance i.e. all points have similar values can be discarded without much loss of information. PCA is blind to data labels.\n",
    "\n",
    "LDA is also used for dimensinoality reduction of the data but it is not blind to labels - it will identify the directions/vectors in the input data which most effectively spread out the *classes*."
   ]
  },
  {
   "cell_type": "code",
   "execution_count": 16,
   "metadata": {
    "collapsed": false,
    "deletable": true,
    "editable": true
   },
   "outputs": [],
   "source": [
    "import matplotlib.pyplot as plt\n",
    "from sklearn.decomposition import PCA\n",
    "from sklearn.discriminant_analysis import LinearDiscriminantAnalysis as LDA\n",
    "from sklearn.preprocessing import StandardScaler\n",
    "from sklearn.pipeline import Pipeline\n",
    "import numpy as np"
   ]
  },
  {
   "cell_type": "code",
   "execution_count": 17,
   "metadata": {
    "collapsed": false,
    "deletable": true,
    "editable": true
   },
   "outputs": [
    {
     "data": {
      "text/html": [
       "<div>\n",
       "<style scoped>\n",
       "    .dataframe tbody tr th:only-of-type {\n",
       "        vertical-align: middle;\n",
       "    }\n",
       "\n",
       "    .dataframe tbody tr th {\n",
       "        vertical-align: top;\n",
       "    }\n",
       "\n",
       "    .dataframe thead th {\n",
       "        text-align: right;\n",
       "    }\n",
       "</style>\n",
       "<table border=\"1\" class=\"dataframe\">\n",
       "  <thead>\n",
       "    <tr style=\"text-align: right;\">\n",
       "      <th></th>\n",
       "      <th>!</th>\n",
       "      <th>&amp;</th>\n",
       "      <th>'</th>\n",
       "      <th>''</th>\n",
       "      <th>''as</th>\n",
       "      <th>''but</th>\n",
       "      <th>''few</th>\n",
       "      <th>''from</th>\n",
       "      <th>''in</th>\n",
       "      <th>''such</th>\n",
       "      <th>...</th>\n",
       "      <th>yokes</th>\n",
       "      <th>york</th>\n",
       "      <th>you</th>\n",
       "      <th>young</th>\n",
       "      <th>your</th>\n",
       "      <th>yourselves</th>\n",
       "      <th>zaleucus</th>\n",
       "      <th>zeal</th>\n",
       "      <th>zealand</th>\n",
       "      <th>zealous</th>\n",
       "    </tr>\n",
       "  </thead>\n",
       "  <tbody>\n",
       "    <tr>\n",
       "      <th>0</th>\n",
       "      <td>0.000000</td>\n",
       "      <td>0.0</td>\n",
       "      <td>0.0</td>\n",
       "      <td>0.000000</td>\n",
       "      <td>0.0</td>\n",
       "      <td>0.0</td>\n",
       "      <td>0.0</td>\n",
       "      <td>0.0</td>\n",
       "      <td>0.0</td>\n",
       "      <td>0.0</td>\n",
       "      <td>...</td>\n",
       "      <td>0.0</td>\n",
       "      <td>0.0</td>\n",
       "      <td>0.00395</td>\n",
       "      <td>0.0</td>\n",
       "      <td>0.005643</td>\n",
       "      <td>0.0</td>\n",
       "      <td>0.0</td>\n",
       "      <td>0.001693</td>\n",
       "      <td>0.0</td>\n",
       "      <td>0.0</td>\n",
       "    </tr>\n",
       "    <tr>\n",
       "      <th>1</th>\n",
       "      <td>0.000542</td>\n",
       "      <td>0.0</td>\n",
       "      <td>0.0</td>\n",
       "      <td>0.000542</td>\n",
       "      <td>0.0</td>\n",
       "      <td>0.0</td>\n",
       "      <td>0.0</td>\n",
       "      <td>0.0</td>\n",
       "      <td>0.0</td>\n",
       "      <td>0.0</td>\n",
       "      <td>...</td>\n",
       "      <td>0.0</td>\n",
       "      <td>0.0</td>\n",
       "      <td>0.00000</td>\n",
       "      <td>0.0</td>\n",
       "      <td>0.000000</td>\n",
       "      <td>0.0</td>\n",
       "      <td>0.0</td>\n",
       "      <td>0.000000</td>\n",
       "      <td>0.0</td>\n",
       "      <td>0.0</td>\n",
       "    </tr>\n",
       "  </tbody>\n",
       "</table>\n",
       "<p>2 rows × 8747 columns</p>\n",
       "</div>"
      ],
      "text/plain": [
       "          !    &    '        ''  ''as  ''but  ''few  ''from  ''in  ''such  \\\n",
       "0  0.000000  0.0  0.0  0.000000   0.0    0.0    0.0     0.0   0.0     0.0   \n",
       "1  0.000542  0.0  0.0  0.000542   0.0    0.0    0.0     0.0   0.0     0.0   \n",
       "\n",
       "   ...  yokes  york      you  young      your  yourselves  zaleucus      zeal  \\\n",
       "0  ...    0.0   0.0  0.00395    0.0  0.005643         0.0       0.0  0.001693   \n",
       "1  ...    0.0   0.0  0.00000    0.0  0.000000         0.0       0.0  0.000000   \n",
       "\n",
       "   zealand  zealous  \n",
       "0      0.0      0.0  \n",
       "1      0.0      0.0  \n",
       "\n",
       "[2 rows x 8747 columns]"
      ]
     },
     "execution_count": 17,
     "metadata": {},
     "output_type": "execute_result"
    }
   ],
   "source": [
    "# Read in the list of authors we scraped from the table on the website\n",
    "x = pd.read_csv(datapath / \"federalist.csv\")\n",
    "x.head(2)"
   ]
  },
  {
   "cell_type": "code",
   "execution_count": 18,
   "metadata": {
    "collapsed": false,
    "deletable": true,
    "editable": true
   },
   "outputs": [],
   "source": [
    "# Create boolean filters for the different groups\n",
    "unknown_docs = authors == \"Hamilton or Madison\"\n",
    "singleauthor_docs = ~authors.isin([\"Hamilton or Madison\", \"Hamilton and Madison\"])\n",
    "mixedauthor_docs = authors == \"Hamilton and Madison\""
   ]
  },
  {
   "cell_type": "code",
   "execution_count": 19,
   "metadata": {
    "collapsed": false
   },
   "outputs": [],
   "source": [
    "author_codes = pd.Categorical(authors[singleauthor_docs])  # Useful to cast the list of authors to a list of integer categories"
   ]
  },
  {
   "cell_type": "markdown",
   "metadata": {
    "deletable": true,
    "editable": true
   },
   "source": [
    "## PCA Example"
   ]
  },
  {
   "cell_type": "code",
   "execution_count": 21,
   "metadata": {
    "collapsed": false,
    "deletable": true,
    "editable": true
   },
   "outputs": [],
   "source": [
    "# PCA can be used for unsupervised dimensionality reduction on unlabeled data\n",
    "# Note, sklearn PCA will center but not scale each feature prior to SVD\n",
    "\n",
    "# Instantiate PCA model with how many principal components to return\n",
    "pca = PCA(n_components=2)\n",
    "# Fitting the model means identifying the principal components from the input data, these are stored in the model\n",
    "# Transforming with the fitted model means casting any new data into the principal component basis\n",
    "x_pca = pca.fit_transform(x.loc[singleauthor_docs, :].values)  # (the fit_transform method does both at the same time)"
   ]
  },
  {
   "cell_type": "code",
   "execution_count": 39,
   "metadata": {
    "collapsed": false
   },
   "outputs": [],
   "source": [
    "# Get the results as a dataframe for plotting\n",
    "pca_results = pd.DataFrame(x_pca, columns=[\"pc1\", \"pc2\"])\n",
    "pca_results[\"author\"] = authors[singleauthor_docs].values"
   ]
  },
  {
   "cell_type": "code",
   "execution_count": 38,
   "metadata": {
    "collapsed": false,
    "deletable": true,
    "editable": true
   },
   "outputs": [
    {
     "data": {
      "text/plain": [
       "<matplotlib.legend.Legend at 0x1fd67903ef0>"
      ]
     },
     "execution_count": 38,
     "metadata": {},
     "output_type": "execute_result"
    },
    {
     "data": {
      "image/png": "[encoded data removed]",
      "text/plain": [
       "<Figure size 576x288 with 1 Axes>"
      ]
     },
     "metadata": {
      "needs_background": "light"
     },
     "output_type": "display_data"
    }
   ],
   "source": [
    "# Plot the data points in the principal components basis, colored by author\n",
    "fig, ax = plt.subplots(figsize=[8, 4])\n",
    "for author, grp in pca_results.groupby([\"author\"]):\n",
    "    ax.scatter(grp[\"pc1\"], grp[\"pc2\"], label=author)\n",
    "ax.set_title(\"Federalist Papers - Principal Components\")\n",
    "ax.set_xlabel(\"1st PC\")\n",
    "ax.set_ylabel(\"2nd PC\")\n",
    "ax.legend(loc=\"lower right\")"
   ]
  },
  {
   "cell_type": "markdown",
   "metadata": {
    "deletable": true,
    "editable": true
   },
   "source": [
    "## PCA + LDA Pipeline"
   ]
  },
  {
   "cell_type": "code",
   "execution_count": 40,
   "metadata": {
    "collapsed": true,
    "deletable": true,
    "editable": true
   },
   "outputs": [],
   "source": [
    "# PCA followed by LDA, wrapped together in a sklearn pipeline\n",
    "pl_steps = [(\"pca\", PCA(n_components=30)),\n",
    "     (\"lda\", LDA(n_components=2))]  # max number of components for LDA is (num_classes - 1)... also 2D viz is useful\n",
    "pl = Pipeline(pl_steps)"
   ]
  },
  {
   "cell_type": "code",
   "execution_count": 41,
   "metadata": {
    "collapsed": false,
    "deletable": true,
    "editable": true
   },
   "outputs": [],
   "source": [
    "# Fit/transform the pipeline with the known authorship documents\n",
    "x_lda = pl.fit_transform(x.loc[singleauthor_docs, :].values, y=authors[singleauthor_docs].values)\n",
    "\n",
    "# Get the results as a dataframe for plotting\n",
    "lda_results = pd.DataFrame(x_lda, columns=[\"pc1\", \"pc2\"])\n",
    "lda_results[\"author\"] = authors[singleauthor_docs].values"
   ]
  },
  {
   "cell_type": "code",
   "execution_count": 42,
   "metadata": {
    "collapsed": false,
    "deletable": true,
    "editable": true
   },
   "outputs": [],
   "source": [
    "# Apply the fitted transformation to the unknown and mixed author papers\n",
    "# (the PCA and LDA models will apply the same principal components / transformations determined by the fit)\n",
    "x_lda_unknown = pl.transform(x.loc[unknown_docs, :].values)\n",
    "x_lda_mixed = pl.transform(x.loc[mixedauthor_docs, :].values)"
   ]
  },
  {
   "cell_type": "code",
   "execution_count": 44,
   "metadata": {
    "collapsed": false,
    "deletable": true,
    "editable": true
   },
   "outputs": [
    {
     "data": {
      "text/plain": [
       "<matplotlib.legend.Legend at 0x1fd67cbfef0>"
      ]
     },
     "execution_count": 44,
     "metadata": {},
     "output_type": "execute_result"
    },
    {
     "data": {
      "image/png": "[encoded data removed]",
      "text/plain": [
       "<Figure size 576x288 with 1 Axes>"
      ]
     },
     "metadata": {
      "needs_background": "light"
     },
     "output_type": "display_data"
    }
   ],
   "source": [
    "# Plot the data points in the principal components basis, colored by author\n",
    "fig, ax = plt.subplots(figsize=[8, 4])\n",
    "for author, grp in lda_results.groupby([\"author\"]):\n",
    "    ax.scatter(grp[\"pc1\"], grp[\"pc2\"], label=author)\n",
    "ax.scatter(x_lda_unknown[:, 0], x_lda_unknown[:, 1], marker=\"x\", s=30, color=\"red\", label=\"unknown authors\")\n",
    "ax.scatter(x_lda_mixed[:, 0], x_lda_mixed[:, 1], marker=\"^\", s=30, color=\"black\", label=\"mixed authors\")\n",
    "ax.set_title(\"Federalist Papers - Principal Components\")\n",
    "ax.set_xlabel(\"1st PC\")\n",
    "ax.set_ylabel(\"2nd PC\")\n",
    "ax.legend(loc=\"upper right\")"
   ]
  },
  {
   "cell_type": "markdown",
   "metadata": {
    "deletable": true,
    "editable": true
   },
   "source": [
    "# Tune PCA Components"
   ]
  },
  {
   "cell_type": "code",
   "execution_count": 46,
   "metadata": {
    "collapsed": true,
    "deletable": true,
    "editable": true
   },
   "outputs": [],
   "source": [
    "from sklearn.model_selection import GridSearchCV"
   ]
  },
  {
   "cell_type": "code",
   "execution_count": 66,
   "metadata": {
    "collapsed": false,
    "deletable": true,
    "editable": true,
    "scrolled": true
   },
   "outputs": [
    {
     "name": "stderr",
     "output_type": "stream",
     "text": [
      "C:\\Users\\Sonya\\Anaconda3\\envs\\scipybase_Apr2019\\lib\\site-packages\\sklearn\\model_selection\\_search.py:841: DeprecationWarning: The default of the `iid` parameter will change from True to False in version 0.22 and will be removed in 0.24. This will change numeric results when test-set sizes are unequal.\n",
      "  DeprecationWarning)\n"
     ]
    },
    {
     "data": {
      "text/plain": [
       "GridSearchCV(cv=3, error_score='raise-deprecating',\n",
       "       estimator=Pipeline(memory=None,\n",
       "     steps=[('pca', PCA(copy=True, iterated_power='auto', n_components=30, random_state=None,\n",
       "  svd_solver='auto', tol=0.0, whiten=False)), ('lda', LinearDiscriminantAnalysis(n_components=2, priors=None, shrinkage=None,\n",
       "              solver='svd', store_covariance=False, tol=0.0001))]),\n",
       "       fit_params=None, iid='warn', n_jobs=None,\n",
       "       param_grid={'pca__n_components': array([10, 13, 16, 19, 22, 25, 28, 31, 34, 37])},\n",
       "       pre_dispatch='2*n_jobs', refit=True, return_train_score=True,\n",
       "       scoring='accuracy', verbose=0)"
      ]
     },
     "execution_count": 66,
     "metadata": {},
     "output_type": "execute_result"
    }
   ],
   "source": [
    "# Define the set of values for PCA n_components that will be tried\n",
    "parameters = {\"pca__n_components\": np.arange(10, 40, 3)}\n",
    "\n",
    "# Instantiate the grid search for our pipeline and parameters\n",
    "# (will do k-folds CV)\n",
    "# (the max number of PCA components is limited by number of training points, so don't want 2- or 3-fold)\n",
    "cv = GridSearchCV(estimator=pl,\n",
    "                  param_grid=parameters,\n",
    "                  cv=3,\n",
    "                  scoring=\"accuracy\",\n",
    "                  return_train_score=True\n",
    "                 )\n",
    "cv.fit(X=x.loc[singleauthor_docs, :].values, \n",
    "       y=authors[singleauthor_docs].values)"
   ]
  },
  {
   "cell_type": "code",
   "execution_count": 64,
   "metadata": {
    "collapsed": false,
    "deletable": true,
    "editable": true
   },
   "outputs": [
    {
     "data": {
      "text/plain": [
       "{'pca__n_components': 37}"
      ]
     },
     "execution_count": 64,
     "metadata": {},
     "output_type": "execute_result"
    }
   ],
   "source": [
    "cv.best_params_"
   ]
  },
  {
   "cell_type": "code",
   "execution_count": 65,
   "metadata": {
    "collapsed": false,
    "deletable": true,
    "editable": true
   },
   "outputs": [
    {
     "data": {
      "text/plain": [
       "Text(0.5, 1.0, 'Fine Tuning Pipeline with Grid Search')"
      ]
     },
     "execution_count": 65,
     "metadata": {},
     "output_type": "execute_result"
    },
    {
     "data": {
      "image/png": "[encoded data removed]",
      "text/plain": [
       "<Figure size 576x288 with 1 Axes>"
      ]
     },
     "metadata": {
      "needs_background": "light"
     },
     "output_type": "display_data"
    }
   ],
   "source": [
    "# Capture the result of the grid search as a dataframe\n",
    "results = pd.DataFrame(cv.cv_results_)\n",
    "results.sort_values(by=\"mean_test_score\", inplace=True)  # sort it by average performance on test set\n",
    "\n",
    "# Plot the results\n",
    "fig, ax = plt.subplots(figsize=[8, 4])\n",
    "ax.scatter(x=results[\"param_pca__n_components\"], y=results[\"mean_test_score\"])\n",
    "ax.set_xlabel(\"n_components\")\n",
    "ax.set_ylabel(\"mean performance on test set\")\n",
    "ax.set_title(\"Fine Tuning Pipeline with Grid Search\")"
   ]
  }
 ],
 "metadata": {
  "kernelspec": {
   "display_name": "Python [conda env:scipybase_Apr2019]",
   "language": "python",
   "name": "conda-env-scipybase_Apr2019-py"
  },
  "language_info": {
   "codemirror_mode": {
    "name": "ipython",
    "version": 3
   },
   "file_extension": ".py",
   "mimetype": "text/x-python",
   "name": "python",
   "nbconvert_exporter": "python",
   "pygments_lexer": "ipython3",
   "version": "3.6.7"
  },
  "toc": {
   "colors": {
    "hover_highlight": "#DAA520",
    "running_highlight": "#FF0000",
    "selected_highlight": "#FFD700"
   },
   "moveMenuLeft": true,
   "nav_menu": {
    "height": "12px",
    "width": "252px"
   },
   "navigate_menu": true,
   "number_sections": true,
   "sideBar": true,
   "threshold": 4,
   "toc_cell": true,
   "toc_section_display": "block",
   "toc_window_display": true
  }
 },
 "nbformat": 4,
 "nbformat_minor": 2
}
