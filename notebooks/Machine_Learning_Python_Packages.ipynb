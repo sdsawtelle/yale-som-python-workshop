{
 "cells": [
  {
   "cell_type": "markdown",
   "metadata": {
    "deletable": true,
    "editable": true,
    "toc": "true"
   },
   "source": [
    "# Table of Contents\n",
    " <p><div class=\"lev1 toc-item\"><a href=\"#Scikit-learn\" data-toc-modified-id=\"Scikit-learn-1\"><span class=\"toc-item-num\">1&nbsp;&nbsp;</span>Scikit-learn</a></div>"
   ]
  },
  {
   "cell_type": "markdown",
   "metadata": {},
   "source": [
    "# Scikit-learn \n",
    "The scikit-learn package has a great deal of functionality that streamlines the common tasks and techniques of machine learning. I hope these examples give you the flavor of this package, but we will only scratch the surface of what it can do. https://scikit-learn.org/stable/getting_started.html"
   ]
  },
  {
   "cell_type": "code",
   "execution_count": 1,
   "metadata": {
    "collapsed": false
   },
   "outputs": [
    {
     "ename": "ModuleNotFoundError",
     "evalue": "No module named 'sklearn'",
     "output_type": "error",
     "traceback": [
      "\u001b[1;31m---------------------------------------------------------------------------\u001b[0m",
      "\u001b[1;31mModuleNotFoundError\u001b[0m                       Traceback (most recent call last)",
      "\u001b[1;32m<ipython-input-1-97c36ee56fe7>\u001b[0m in \u001b[0;36m<module>\u001b[1;34m\u001b[0m\n\u001b[0;32m      4\u001b[0m \u001b[1;31m# It's available in sklearn along with many other example datasets.\u001b[0m\u001b[1;33m\u001b[0m\u001b[1;33m\u001b[0m\u001b[1;33m\u001b[0m\u001b[0m\n\u001b[0;32m      5\u001b[0m \u001b[1;33m\u001b[0m\u001b[0m\n\u001b[1;32m----> 6\u001b[1;33m \u001b[1;32mfrom\u001b[0m \u001b[0msklearn\u001b[0m\u001b[1;33m.\u001b[0m\u001b[0mdatasets\u001b[0m \u001b[1;32mimport\u001b[0m \u001b[0mload_iris\u001b[0m\u001b[1;33m\u001b[0m\u001b[1;33m\u001b[0m\u001b[0m\n\u001b[0m\u001b[0;32m      7\u001b[0m \u001b[1;33m\u001b[0m\u001b[0m\n\u001b[0;32m      8\u001b[0m \u001b[0mX\u001b[0m\u001b[1;33m,\u001b[0m \u001b[0my\u001b[0m \u001b[1;33m=\u001b[0m \u001b[0mload_iris\u001b[0m\u001b[1;33m(\u001b[0m\u001b[0mreturn_X_y\u001b[0m\u001b[1;33m=\u001b[0m\u001b[1;32mTrue\u001b[0m\u001b[1;33m)\u001b[0m\u001b[1;33m\u001b[0m\u001b[1;33m\u001b[0m\u001b[0m\n",
      "\u001b[1;31mModuleNotFoundError\u001b[0m: No module named 'sklearn'"
     ]
    }
   ],
   "source": [
    "# You may have seen the \"iris\" dataset before.\n",
    "# It has measurements of sepal lengths and widths and petal lengths and widths\n",
    "# for three different species of iris plants.\n",
    "# It's available in sklearn along with many other example datasets.\n",
    "\n",
    "from sklearn.datasets import load_iris\n",
    "\n",
    "X, y = load_iris(return_X_y=True)\n",
    "type(X), X.shape, X[:10, :], y"
   ]
  },
  {
   "cell_type": "code",
   "execution_count": null,
   "metadata": {
    "collapsed": true,
    "deletable": true,
    "editable": true
   },
   "outputs": [],
   "source": [
    "# Create an empty model object, then fit it to data\n",
    "\n",
    "from sklearn.ensemble import RandomForestClassifier\n",
    "\n",
    "rf = RandomForestClassifier()\n",
    "rf.fit(X, y)\n",
    "\n",
    "# Now rf is a fitted model and can be used to predict the labels\n",
    "# for a given set of explanatory variables values.\n",
    "rf.predict(X)\n",
    "rf.predict(X) == y\n",
    "# Performs perfectly on the original data (probably over-fitting!)\n",
    "\n",
    "\n",
    "\n",
    "# In general, we don't just fit a model on the full dataset.\n",
    "# Rather, we want to try a variety of techniques to compare them\n",
    "# and estimate how well they will generalize to future data.\n",
    "# To this end, we first split data into training and test sets.\n",
    "\n",
    "from sklearn.model_selection import train_test_split\n",
    "\n",
    "X_train, X_test, y_train, y_test = train_test_split(X, y)\n",
    "X_train.shape\n",
    "X_test.shape\n",
    "# By default about a quarter of the data is designated as test data\n",
    "# but you can use a different proportion, e.g.\n",
    "# train_test_split(X, y, test_size=.1)\n",
    "\n",
    "rf.fit(X_train, y_train)\n",
    "# this \"fit\" overwrites the original fitting\n",
    "# however some methods allow for \"partial_fit\" the fit, e.g.\n",
    "# https://scikit-learn.org/stable/modules/generated/sklearn.decomposition.IncrementalPCA.html\n",
    "\n",
    "rf.predict(X_test) == y_test\n",
    "# usually gets a few labels wrong out of 38\n",
    "# here's a built-in way to calculate the proportion of accurate labels:\n",
    "\n",
    "from sklearn.metrics import accuracy_score\n",
    "\n",
    "accuracy_score(rf.predict(X_test), y_test)\n",
    "\n",
    "\n",
    "# Most machine learning techniques have a number of unspecified hyperparameters\n",
    "# that determine, for example, how harshly to penalize more complex models.\n",
    "# Rather than using the default values, it is generally better to\n",
    "# choose values for the hyperparameters by trying a variety of them\n",
    "# in cross-validation trials and using the values that work best.\n",
    "# The following code explores a grid of different combinations of two\n",
    "# hyperparameters in our random forest classifier and picks the one with\n",
    "# the smallest average error in 5-fold cross-validation.\n",
    "\n",
    "\n",
    "from sklearn.model_selection import GridSearchCV\n",
    "\n",
    "grid = {'n_estimators': [1, 10, 50, 100], 'max_depth': list(range(5, 11))}\n",
    "rf = GridSearchCV(estimator=RandomForestClassifier(), param_grid=grid)\n",
    "\n",
    "rf.fit(X_train, y_train)\n",
    "accuracy_score(rf.predict(X_test), y_test)\n",
    "\n",
    "# we can ask which parameter values performed best in cross-validation\n",
    "# and where therefore used for the fitting:\n",
    "rf.best_params_\n",
    "\n",
    "\n",
    "## Now let's try another technique on this data\n",
    "\n",
    "from sklearn.linear_model import LogisticRegression\n",
    "\n",
    "logr = LogisticRegression()\n",
    "logr.fit(X_train, y_train)\n",
    "\n",
    "accuracy_score(logr.predict(X_test), y_test)\n",
    "\n",
    "# However, logistic regression tends to work better with standardized explanatory variables\n",
    "\n",
    "from sklearn.preprocessing import StandardScaler\n",
    "\n",
    "scaler = StandardScaler().fit(X_train)\n",
    "logr.fit(scaler.transform(X_train), y_train)\n",
    "\n",
    "accuracy_score(logr.predict(scaler.transform(X_test)), y_test)\n",
    "\n",
    "# The transform plus logistic regression sequence can be put together\n",
    "# into a single \"pipeline\" object so that we don't have to explicitly\n",
    "# rescale all future data before using the predict method.\n",
    "\n",
    "from sklearn.pipeline import make_pipeline\n",
    "\n",
    "logr = make_pipeline(\n",
    "    StandardScaler(),\n",
    "    LogisticRegression()\n",
    ")\n",
    "\n",
    "# treat the pipeline like a model object\n",
    "logr.fit(X_train, y_train)\n",
    "logr.predict(X_test)\n",
    "accuracy_score(logr.predict(X_test), y_test)\n",
    "\n",
    "\n",
    "\n",
    "# It's remarkable how uniformly we can handle different methods.\n",
    "# To reinforce this, let's see how both the random forest and logistic\n",
    "# regression fitting can be put together into a loop.\n",
    "\n",
    "rf = GridSearchCV(estimator=RandomForestClassifier(),\n",
    "                  param_grid={'n_estimators': [1, 10, 50, 100], 'max_depth': list(range(5, 11))})\n",
    "\n",
    "logr = make_pipeline(\n",
    "    StandardScaler(),\n",
    "    LogisticRegression()\n",
    ")\n",
    "\n",
    "\n",
    "methods = [rf, logr]\n",
    "for m in methods:\n",
    "    m.fit(X_train, y_train)\n",
    "    print(accuracy_score(m.predict(X_test), y_test))\n",
    "\n",
    "\n",
    "## EXERCISE: Redo the logistic regression, but this time do principal\n",
    "##           components analysis on the explanatory variables first\n",
    "##           instead of simply rescaling.\n",
    "##           Incorporate a grid search that tries keeping 1, 2, 3, and 4 components.\n",
    "##           This goes beyond what's been presented above, so you'll need\n",
    "##           to do some web searching and some trial-and-error.\n",
    "##           But that's an essential part of coding!"
   ]
  }
 ],
 "metadata": {
  "kernelspec": {
   "display_name": "Python [conda env:scipybase_Jun2021]",
   "language": "python",
   "name": "conda-env-scipybase_Jun2021-py"
  },
  "language_info": {
   "codemirror_mode": {
    "name": "ipython",
    "version": 3
   },
   "file_extension": ".py",
   "mimetype": "text/x-python",
   "name": "python",
   "nbconvert_exporter": "python",
   "pygments_lexer": "ipython3",
   "version": "3.8.10"
  },
  "toc": {
   "colors": {
    "hover_highlight": "#DAA520",
    "running_highlight": "#FF0000",
    "selected_highlight": "#FFD700"
   },
   "moveMenuLeft": true,
   "nav_menu": {
    "height": "12px",
    "width": "252px"
   },
   "navigate_menu": true,
   "number_sections": true,
   "sideBar": true,
   "threshold": 4,
   "toc_cell": true,
   "toc_section_display": "block",
   "toc_window_display": true
  }
 },
 "nbformat": 4,
 "nbformat_minor": 2
}
